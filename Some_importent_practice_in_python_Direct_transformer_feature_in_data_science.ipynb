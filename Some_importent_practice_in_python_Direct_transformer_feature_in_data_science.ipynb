{
  "nbformat": 4,
  "nbformat_minor": 0,
  "metadata": {
    "colab": {
      "name": "Some importent practice in python Direct transformer feature in data science ",
      "private_outputs": true,
      "provenance": [],
      "collapsed_sections": [],
      "mount_file_id": "1TeF8V_iVT7kI1E9GmcCzLRBm4pctwXnv",
      "authorship_tag": "ABX9TyPf2juFuApWb/fZJLGYN3S2",
      "include_colab_link": true
    },
    "kernelspec": {
      "name": "python3",
      "display_name": "Python 3"
    },
    "language_info": {
      "name": "python"
    }
  },
  "cells": [
    {
      "cell_type": "markdown",
      "metadata": {
        "id": "view-in-github",
        "colab_type": "text"
      },
      "source": [
        "<a href=\"https://colab.research.google.com/github/satyambhatt5/Data_science/blob/main/Some_importent_practice_in_python_Direct_transformer_feature_in_data_science.ipynb\" target=\"_parent\"><img src=\"https://colab.research.google.com/assets/colab-badge.svg\" alt=\"Open In Colab\"/></a>"
      ]
    },
    {
      "cell_type": "code",
      "metadata": {
        "id": "Qx3NDQsgbQMc"
      },
      "source": [
        "#parent class \n",
        "class Car:\n",
        "\n",
        "  def __init__(self,year ,make, model):\n",
        "    self.year=year\n",
        "    self.make=make\n",
        "    self.model=model\n",
        "\n",
        "  def startEngine(self,  str=\"vvroooom!!!\"):\n",
        "    print(str)\n",
        "  \n",
        "  def showyear(self):\n",
        "    return self.year\n",
        "\n",
        "\n",
        "\n",
        "#child class \n",
        "\n",
        "class DieselCar(Car):\n",
        "  def __init__(self,year,make ,model):\n",
        "\n",
        "    super().__init__(self,year,make,model)\n",
        "\n",
        "  def startGlowplug(self):\n",
        "    print(\"Heating up the Plug\")\n",
        "\n",
        "  \n",
        "\n",
        "\n",
        "\n",
        "\n"
      ],
      "execution_count": null,
      "outputs": []
    },
    {
      "cell_type": "code",
      "metadata": {
        "id": "1DZ0pxdde_6s"
      },
      "source": [
        "x=Car(2013,\"tesla\",\"x1\")\n",
        "x.year\n",
        "\n",
        "\n"
      ],
      "execution_count": null,
      "outputs": []
    },
    {
      "cell_type": "code",
      "metadata": {
        "id": "7vHsnRe1fpDW"
      },
      "source": [
        "l =['Keep', 'The', 'Blue', 'Flag', 'Flying', 'High']\n",
        "\n",
        "for i in l:\n",
        "  print(i)"
      ],
      "execution_count": null,
      "outputs": []
    },
    {
      "cell_type": "code",
      "metadata": {
        "id": "1eg74Q8bqIBl"
      },
      "source": [
        "magicians = ['alice', 'david', 'carolina'] \n",
        "\n",
        "for magician in magicians:\n",
        "  print(magician)"
      ],
      "execution_count": null,
      "outputs": []
    },
    {
      "cell_type": "code",
      "metadata": {
        "id": "ZRMcGXU0rDjx"
      },
      "source": [
        "def statement(first_name,last_name,roll_no,*arg):\n",
        "  print(f\"{first_name} {last_name} has a {roll_no}\")"
      ],
      "execution_count": null,
      "outputs": []
    },
    {
      "cell_type": "code",
      "metadata": {
        "id": "CfMa2UWDr54S"
      },
      "source": [
        "statement(\"satyam\",\"bhatt\",7207)"
      ],
      "execution_count": null,
      "outputs": []
    },
    {
      "cell_type": "code",
      "metadata": {
        "id": "McqH1wUisInr"
      },
      "source": [
        "l2=['alice', 'david', 'carolina',\"dinesh\",\"rahul\"] "
      ],
      "execution_count": null,
      "outputs": []
    },
    {
      "cell_type": "code",
      "metadata": {
        "id": "p5uHK1Sfs5qH"
      },
      "source": [
        "dict(zip(l,l2))"
      ],
      "execution_count": null,
      "outputs": []
    },
    {
      "cell_type": "code",
      "metadata": {
        "id": "dc4dCnB8tB8G"
      },
      "source": [
        "import pandas as pd\n",
        "import numpy as np\n"
      ],
      "execution_count": null,
      "outputs": []
    },
    {
      "cell_type": "code",
      "metadata": {
        "id": "h5Ztf3jkwWkk"
      },
      "source": [
        "x = np.array([[1, 2, 3], [4, 5, 6]], np.int32)\n",
        "x.shape"
      ],
      "execution_count": null,
      "outputs": []
    },
    {
      "cell_type": "code",
      "metadata": {
        "id": "25LGynZlwa4U"
      },
      "source": [
        "a=\"edureka python\"\n"
      ],
      "execution_count": null,
      "outputs": []
    },
    {
      "cell_type": "code",
      "metadata": {
        "id": "6Aj-N9uTxuap"
      },
      "source": [
        "a.split()"
      ],
      "execution_count": null,
      "outputs": []
    },
    {
      "cell_type": "code",
      "metadata": {
        "id": "n-4BV2CQzRHG"
      },
      "source": [
        "ar = np.array([1, 3, 2, 4, 5, 6])\n",
        "\n"
      ],
      "execution_count": null,
      "outputs": []
    },
    {
      "cell_type": "code",
      "metadata": {
        "id": "N34oRytx0ckb"
      },
      "source": [
        "x=57\n",
        "y=37\n",
        "\n",
        "x,y,z=1,2,3\n",
        "\n",
        "x,y,z"
      ],
      "execution_count": null,
      "outputs": []
    },
    {
      "cell_type": "code",
      "metadata": {
        "id": "9sw1PSrV0lIM"
      },
      "source": [
        "#construct the inhertence class of the class \n",
        "\n",
        "\n",
        "class fruit:\n",
        "  def __init__(self):\n",
        "    print(\"i am fruit\")\n",
        "\n",
        "class citrus(fruit):\n",
        "\n",
        "  def __init__(self):\n",
        "    super().__init__()\n",
        "    print(\"i am citrus\")\n"
      ],
      "execution_count": null,
      "outputs": []
    },
    {
      "cell_type": "code",
      "metadata": {
        "id": "6Am16i_lI_Yr"
      },
      "source": [
        "lemon =citrus()"
      ],
      "execution_count": null,
      "outputs": []
    },
    {
      "cell_type": "code",
      "metadata": {
        "id": "49RjlhBvJUgb"
      },
      "source": [
        "#create the i d numpy array and 2 d numpy array\n",
        "\n",
        "import numpy as np\n",
        "import pandas as pd\n",
        "import warnings\n",
        "import warnings \n",
        "warnings.filterwarnings('ignore')\n",
        "\n",
        "#one d  \n",
        "print(np.array([1,2,3]))\n",
        "\n",
        "#two d array\n",
        "print(np.array([[1,2,3],[4,5,6]]))\n"
      ],
      "execution_count": null,
      "outputs": []
    },
    {
      "cell_type": "code",
      "metadata": {
        "id": "8VR7NKhJKf2-"
      },
      "source": [
        "np.zeros((5,5))"
      ],
      "execution_count": null,
      "outputs": []
    },
    {
      "cell_type": "code",
      "metadata": {
        "id": "UXTgJ421LL4t"
      },
      "source": [
        "#add the numpy array \n",
        "\n",
        "a=np.array([1,2,3])\n",
        "b=np.array([4,5,6])\n",
        "\n",
        "c=a+b\n",
        "d=a-b\n",
        "\n",
        "print (c,d)\n",
        "\n"
      ],
      "execution_count": null,
      "outputs": []
    },
    {
      "cell_type": "code",
      "metadata": {
        "id": "vCe6aDEALnbp"
      },
      "source": [
        "#find the max value in given \n",
        "\n",
        "\n",
        "e=np.array([10,20,30,40,100,60])\n",
        "\n"
      ],
      "execution_count": null,
      "outputs": []
    },
    {
      "cell_type": "code",
      "metadata": {
        "id": "J9BgWVDBMWta"
      },
      "source": [
        "e.max()"
      ],
      "execution_count": null,
      "outputs": []
    },
    {
      "cell_type": "code",
      "metadata": {
        "id": "pN9g3hcLMeFl"
      },
      "source": [
        "#buid the data frame \n",
        "\n",
        "data =[10,20,40,50]\n",
        "\n",
        "\n",
        "l =pd.DataFrame(data)\n",
        "l"
      ],
      "execution_count": null,
      "outputs": []
    },
    {
      "cell_type": "code",
      "metadata": {
        "id": "I2T3MJZ3MroD"
      },
      "source": [
        "df = {\"Vegetable\":['ladyfinger','tomato','ginger','garlic'],\"Fruit\":['banana','mango','watermelon','apple'],\"Number\":[12,23,45,60]}"
      ],
      "execution_count": null,
      "outputs": []
    },
    {
      "cell_type": "code",
      "metadata": {
        "id": "3IGJbvL4OOtp"
      },
      "source": [
        "df"
      ],
      "execution_count": null,
      "outputs": []
    },
    {
      "cell_type": "code",
      "metadata": {
        "id": "0OozNCqfOroZ"
      },
      "source": [
        "x=pd.DataFrame(df)\n",
        "x"
      ],
      "execution_count": null,
      "outputs": []
    },
    {
      "cell_type": "code",
      "metadata": {
        "id": "d8uqzvZ4QMzE"
      },
      "source": [
        "a=\"readthenumberofcharacterpresentin\"\n",
        "\n",
        "count=0\n",
        "\n",
        "for i in a:\n",
        "  count=count+1\n",
        "print(count)"
      ],
      "execution_count": null,
      "outputs": []
    },
    {
      "cell_type": "code",
      "metadata": {
        "id": "LXvTkeyAUvLk"
      },
      "source": [
        "df = pd.DataFrame({'year': [2015, 2016],\n",
        "                   'month': [2, 3],\n",
        "                   'day': [4, 5]})"
      ],
      "execution_count": null,
      "outputs": []
    },
    {
      "cell_type": "code",
      "metadata": {
        "id": "LPb2rosrdleT"
      },
      "source": [
        "pd.to_datetime(df)"
      ],
      "execution_count": null,
      "outputs": []
    },
    {
      "cell_type": "code",
      "metadata": {
        "id": "eSeFEixedmcB"
      },
      "source": [
        "#using the range date time \n",
        "\n",
        "pd.date_range(start='1/1/2018', end='1/08/2018')"
      ],
      "execution_count": null,
      "outputs": []
    },
    {
      "cell_type": "code",
      "metadata": {
        "id": "uV5jK00GePwx"
      },
      "source": [
        "#using the periods of the time i same value \n",
        "#Specify end and periods, the number of periods (days).\n",
        "\n",
        "pd.date_range(start='1/1/2018', periods=8)"
      ],
      "execution_count": null,
      "outputs": []
    },
    {
      "cell_type": "code",
      "metadata": {
        "id": "nRjwjmRreWUF"
      },
      "source": [
        "#Specify start, end, and periods; the frequency is generated automatically (linearly spaced).\n",
        "\n",
        "pd.date_range(start='2018-04-24', end='2018-04-27', periods=3)\n"
      ],
      "execution_count": null,
      "outputs": []
    },
    {
      "cell_type": "markdown",
      "metadata": {
        "id": "ML5jGUt9hQT8"
      },
      "source": [
        "![image.png](data:image/png;base64,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)"
      ]
    },
    {
      "cell_type": "code",
      "metadata": {
        "id": "1UPS9HgKe-82"
      },
      "source": [
        "df = pd.DataFrame(np.array([[1, 1], [2, 10], [3, 100], [4, 100]]),\n",
        "                  columns=['a', 'b'])\n",
        "df"
      ],
      "execution_count": null,
      "outputs": []
    },
    {
      "cell_type": "code",
      "metadata": {
        "id": "-_lfx9PsgV7Q"
      },
      "source": [
        "df.info()"
      ],
      "execution_count": null,
      "outputs": []
    },
    {
      "cell_type": "code",
      "metadata": {
        "id": "5Y5dec_TgXAY"
      },
      "source": [
        "from sklearn.preprocessing import StandardScaler, OneHotEncoder\n",
        "from sklearn.compose import make_column_transformer\n",
        "from sklearn.compose import make_column_selector\n",
        "import pandas as pd  \n",
        "import numpy as np\n",
        "\n"
      ],
      "execution_count": null,
      "outputs": []
    },
    {
      "cell_type": "code",
      "metadata": {
        "id": "qe8Se808lWsk"
      },
      "source": [
        "X = pd.DataFrame({'city': ['London', 'London', 'Paris', 'Sallisaw'],\n",
        "                'rating': [5, 3, 4, 5]})  "
      ],
      "execution_count": null,
      "outputs": []
    },
    {
      "cell_type": "code",
      "metadata": {
        "id": "rhVEv5OC4pqN"
      },
      "source": [
        "ct= make_column_transformer((StandardScaler(),make_column_selector(dtype_include=np.number)),\n",
        "                            (OneHotEncoder(),make_column_selector(dtype_include=object)))\n",
        "ct"
      ],
      "execution_count": null,
      "outputs": []
    },
    {
      "cell_type": "code",
      "metadata": {
        "id": "L-XZOGTa5tMF"
      },
      "source": [
        "\n",
        "\n",
        "!mkdir -p /root/.kaggle/\n",
        "!mv kaggle.json /root/.kaggle/\n",
        "\n",
        " \n"
      ],
      "execution_count": null,
      "outputs": []
    },
    {
      "cell_type": "code",
      "metadata": {
        "id": "dJwajmWy9Urq"
      },
      "source": [
        "import kaggle\n"
      ],
      "execution_count": null,
      "outputs": []
    },
    {
      "cell_type": "code",
      "metadata": {
        "id": "Q8XmKJnc9bWb"
      },
      "source": [
        "!kaggle competitions download -c titanic\n"
      ],
      "execution_count": null,
      "outputs": []
    },
    {
      "cell_type": "code",
      "metadata": {
        "id": "1oZF5okY9jdF"
      },
      "source": [
        "titanic =pd.read_csv(\"/content/train.csv\") \n",
        "titanic.head()"
      ],
      "execution_count": null,
      "outputs": []
    },
    {
      "cell_type": "code",
      "metadata": {
        "id": "RaqNdfEq_yGp"
      },
      "source": [
        "titanic=titanic.drop(titanic.loc[:,['PassengerId','Ticket','Cabin','Name']],axis=1)\n"
      ],
      "execution_count": null,
      "outputs": []
    },
    {
      "cell_type": "code",
      "metadata": {
        "id": "NsC0E-kpIPxy"
      },
      "source": [
        "titanic"
      ],
      "execution_count": null,
      "outputs": []
    },
    {
      "cell_type": "code",
      "metadata": {
        "id": "C00hTjqQAJIe"
      },
      "source": [
        "titanic.info()"
      ],
      "execution_count": null,
      "outputs": []
    },
    {
      "cell_type": "code",
      "metadata": {
        "id": "wAlVVIFs92N-"
      },
      "source": [
        "\n",
        "titanic.describe()"
      ],
      "execution_count": null,
      "outputs": []
    },
    {
      "cell_type": "code",
      "metadata": {
        "id": "BKy9wj2T-C4V"
      },
      "source": [
        "titanic.isnull().sum()"
      ],
      "execution_count": null,
      "outputs": []
    },
    {
      "cell_type": "code",
      "metadata": {
        "id": "G119Q-v2IzQq"
      },
      "source": [
        ""
      ],
      "execution_count": null,
      "outputs": []
    },
    {
      "cell_type": "code",
      "metadata": {
        "id": "xV8GsDY0BprL"
      },
      "source": [
        "from sklearn.compose import ColumnTransformer\n",
        "from sklearn.datasets import fetch_openml\n",
        "from sklearn.pipeline import Pipeline\n",
        "from sklearn.impute import SimpleImputer\n",
        "from sklearn.preprocessing import StandardScaler, OneHotEncoder\n",
        "from sklearn.linear_model import LogisticRegression\n",
        "from sklearn.model_selection import train_test_split, GridSearchCV"
      ],
      "execution_count": null,
      "outputs": []
    },
    {
      "cell_type": "markdown",
      "metadata": {
        "id": "H0wtj8WQH38r"
      },
      "source": [
        "Numeric Features:\n",
        "\n",
        "age: float;\n",
        "\n",
        "fare: float.\n",
        "\n",
        "Categorical Features:\n",
        "\n",
        "embarked: categories encoded as strings {'C', 'S', 'Q'};\n",
        "\n",
        "sex: categories encoded as strings {'female', 'male'};\n",
        "\n",
        "pclass: ordinal integers {1, 2, 3}."
      ]
    },
    {
      "cell_type": "markdown",
      "metadata": {
        "id": "LRLKEBMMsMwJ"
      },
      "source": [
        "The mean (average) of a data set is found by adding all numbers in the data set and then dividing by the number of values in the set.\n",
        "\n",
        " The median is the middle value when a data set is ordered from least to greatest. \n",
        " \n",
        " The mode is the number that occurs most often in a data set **bold text**"
      ]
    },
    {
      "cell_type": "code",
      "metadata": {
        "id": "WOnOPULSre61"
      },
      "source": [
        "numeric_features = ['Age', 'Fare']\n",
        "numeric_transformer=Pipeline(steps=[('imputer',SimpleImputer(strategy='median')),\n",
        "                                     ('scaler',StandardScaler()  )])\n",
        "\n",
        "\n",
        "\n",
        "category_features=['Pclass','Embarked','Sex',]\n",
        "categorical_transformer = OneHotEncoder(handle_unknown='ignore')\n",
        "\n",
        "\n",
        "\n",
        "preprocessor = ColumnTransformer(transformers=[('num',numeric_transformer,numeric_features),\n",
        "                                               ('cat',categorical_transformer,category_features)])"
      ],
      "execution_count": null,
      "outputs": []
    },
    {
      "cell_type": "code",
      "metadata": {
        "id": "vqiJ8SDDvP1k"
      },
      "source": [
        "clf=Pipeline(steps=[('preprocessor',preprocessor),\n",
        "                ('classifier',LogisticRegression())])"
      ],
      "execution_count": null,
      "outputs": []
    },
    {
      "cell_type": "code",
      "metadata": {
        "id": "it-W9LYjyHjk"
      },
      "source": [
        "X= titanic.drop('Survived',axis=1).values\n",
        "X\n"
      ],
      "execution_count": null,
      "outputs": []
    },
    {
      "cell_type": "code",
      "metadata": {
        "id": "cdp4gffsyo-i"
      },
      "source": [
        "y=titanic['Survived'].values\n"
      ],
      "execution_count": null,
      "outputs": []
    },
    {
      "cell_type": "code",
      "metadata": {
        "id": "9jq8e-iuy9SK"
      },
      "source": [
        "X_train,X_test,y_train,y_test=train_test_split(X,y,random_state=32,test_size=.25)\n",
        "print(X_train.shape,\n",
        "X_test.shape)"
      ],
      "execution_count": null,
      "outputs": []
    },
    {
      "cell_type": "code",
      "metadata": {
        "id": "ClQ3EbCI-bBp"
      },
      "source": [
        "clf.fit(X_train,y_train)\n",
        "print(\"model score: %.3f\" % clf.score(X_test, y_test))"
      ],
      "execution_count": null,
      "outputs": []
    },
    {
      "cell_type": "code",
      "metadata": {
        "id": "S9zhwm11zk4X"
      },
      "source": [
        "#!pip install --upgrade scikit-learn\n"
      ],
      "execution_count": null,
      "outputs": []
    },
    {
      "cell_type": "code",
      "metadata": {
        "id": "J03xTTeh0H17"
      },
      "source": [
        "from sklearn import set_config\n",
        "\n",
        "set_config(display='diagram')\n",
        "clf"
      ],
      "execution_count": null,
      "outputs": []
    },
    {
      "cell_type": "code",
      "metadata": {
        "id": "Ae0aEhM3CBFk"
      },
      "source": [
        "titanic.drop"
      ],
      "execution_count": null,
      "outputs": []
    },
    {
      "cell_type": "code",
      "metadata": {
        "id": "5creVKjS5M8i"
      },
      "source": [
        ""
      ],
      "execution_count": null,
      "outputs": []
    },
    {
      "cell_type": "code",
      "metadata": {
        "id": "ItDqVHXlCEfo"
      },
      "source": [
        "titanic=titanic.drop(['SibSp','Parch'],axis=1)"
      ],
      "execution_count": null,
      "outputs": []
    },
    {
      "cell_type": "code",
      "metadata": {
        "id": "8H_Oo3meD_eJ"
      },
      "source": [
        "titanic"
      ],
      "execution_count": null,
      "outputs": []
    },
    {
      "cell_type": "code",
      "metadata": {
        "id": "PKuqTIRjF4QB"
      },
      "source": [
        "X=titanic.drop(['Survived'],axis=1)\n",
        "print(X)\n",
        "\n",
        "y=titanic['Survived']\n"
      ],
      "execution_count": null,
      "outputs": []
    },
    {
      "cell_type": "code",
      "metadata": {
        "id": "TpD21lvrFa1J"
      },
      "source": [
        "subset_feature = ['Pclass','Sex' ,'Age', 'Fare','Embarked']\n",
        "\n",
        "Xtrain,Xtest,ytrain,ytest=train_test_split(X,y,random_state=32,test_size=.25)\n",
        "\n",
        "print(Xtrain.shape,ytrain.shape)"
      ],
      "execution_count": null,
      "outputs": []
    },
    {
      "cell_type": "code",
      "metadata": {
        "id": "nBYGhwaGHD8q"
      },
      "source": [
        "Xtrain,Xtest=Xtrain[subset_feature],Xtest[subset_feature]"
      ],
      "execution_count": null,
      "outputs": []
    },
    {
      "cell_type": "code",
      "metadata": {
        "id": "vb8n-OHmHb0m"
      },
      "source": [
        "Xtrain.info()"
      ],
      "execution_count": null,
      "outputs": []
    },
    {
      "cell_type": "code",
      "metadata": {
        "id": "qlHvelOhI4bx"
      },
      "source": [
        "from sklearn.compose import make_column_selector as selector\n",
        "preprocessor = ColumnTransformer(transformers=[\n",
        "    ('num', numeric_transformer, selector(dtype_exclude=object)),\n",
        "    ('cat', categorical_transformer, selector(dtype_include=object))\n",
        "])\n",
        "clf = Pipeline(steps=[('preprocessor', preprocessor),\n",
        "                      ('classifier', LogisticRegression())])"
      ],
      "execution_count": null,
      "outputs": []
    },
    {
      "cell_type": "code",
      "metadata": {
        "id": "G2RF4l-HJjPc"
      },
      "source": [
        "clf"
      ],
      "execution_count": null,
      "outputs": []
    },
    {
      "cell_type": "code",
      "metadata": {
        "id": "XwfaNr3tJ9iU"
      },
      "source": [
        "clf.fit(Xtrain, ytrain)\n",
        "print(\"model score: %.3f\" % clf.score(Xtest, ytest))"
      ],
      "execution_count": null,
      "outputs": []
    },
    {
      "cell_type": "code",
      "metadata": {
        "id": "rEBI4WPLKQYk"
      },
      "source": [
        "param_grid = {\n",
        "    'preprocessor__num__imputer__strategy': ['mean', 'median'],\n",
        "    'classifier__C': [0.1, 1.0, 10, 100],\n",
        "}\n",
        "\n",
        "grid_search = GridSearchCV(clf, param_grid, cv=10)\n",
        "grid_search"
      ],
      "execution_count": null,
      "outputs": []
    },
    {
      "cell_type": "code",
      "metadata": {
        "id": "9aDl8kjOKf-M"
      },
      "source": [
        "grid_search.fit(Xtrain, ytrain)\n",
        "\n",
        "print(f\"Best params:\")\n",
        "print(grid_search.best_params_)"
      ],
      "execution_count": null,
      "outputs": []
    },
    {
      "cell_type": "code",
      "metadata": {
        "id": "qLKqmDWzKugo"
      },
      "source": [
        "print(f\"Internal CV score: {grid_search.best_score_:.3f}\")"
      ],
      "execution_count": null,
      "outputs": []
    },
    {
      "cell_type": "code",
      "metadata": {
        "id": "ULduZMvDK25a"
      },
      "source": [
        "\n",
        "cv_results = pd.DataFrame(grid_search.cv_results_)\n",
        "cv_results = cv_results.sort_values(\"mean_test_score\", ascending=False)\n",
        "cv_results[[\"mean_test_score\", \"std_test_score\",\n",
        "            \"param_preprocessor__num__imputer__strategy\",\n",
        "            \"param_classifier__C\"\n",
        "            ]].head(5)"
      ],
      "execution_count": null,
      "outputs": []
    },
    {
      "cell_type": "code",
      "metadata": {
        "id": "C5cAHFOxLCt0"
      },
      "source": [
        "print((\"best logistic regression from grid search: %.3f\"\n",
        "       % grid_search.score(Xtest, ytest)))"
      ],
      "execution_count": null,
      "outputs": []
    },
    {
      "cell_type": "code",
      "metadata": {
        "id": "l_Vex4EeLXAz"
      },
      "source": [
        ""
      ],
      "execution_count": null,
      "outputs": []
    }
  ]
}