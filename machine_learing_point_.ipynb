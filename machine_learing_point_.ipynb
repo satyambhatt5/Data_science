{
  "nbformat": 4,
  "nbformat_minor": 0,
  "metadata": {
    "colab": {
      "name": "machine learing point .ipynb",
      "private_outputs": true,
      "provenance": [],
      "authorship_tag": "ABX9TyP3cgWG5f6PkRMQoG/21GbN",
      "include_colab_link": true
    },
    "kernelspec": {
      "name": "python3",
      "display_name": "Python 3"
    }
  },
  "cells": [
    {
      "cell_type": "markdown",
      "metadata": {
        "id": "view-in-github",
        "colab_type": "text"
      },
      "source": [
        "<a href=\"https://colab.research.google.com/github/satyambhatt5/Data_science/blob/main/machine_learing_point_.ipynb\" target=\"_parent\"><img src=\"https://colab.research.google.com/assets/colab-badge.svg\" alt=\"Open In Colab\"/></a>"
      ]
    },
    {
      "cell_type": "code",
      "metadata": {
        "id": "GI9VLwxRcoo5"
      },
      "source": [
        "import pandas as pd\r\n",
        "cols = ['Pclass', 'Name', 'Sex', 'Age', 'SibSp', 'Parch', 'Ticket', 'Fare', 'Cabin', 'Embarked']\r\n",
        "df = pd.read_csv('http://bit.ly/kaggletrain')\r\n",
        "X = df[cols]\r\n",
        "y = df['Survived']\r\n",
        "df_new = pd.read_csv('http://bit.ly/kaggletest', nrows=10)\r\n",
        "X_new = df_new[cols]\r\n",
        "\r\n",
        "X\r\n",
        "\r\n",
        "\r\n"
      ],
      "execution_count": null,
      "outputs": []
    },
    {
      "cell_type": "code",
      "metadata": {
        "id": "AJTwN4RmkOg_"
      },
      "source": [
        "y"
      ],
      "execution_count": null,
      "outputs": []
    },
    {
      "cell_type": "code",
      "metadata": {
        "id": "VTxYVVDukQ3W"
      },
      "source": [
        "X_new"
      ],
      "execution_count": null,
      "outputs": []
    },
    {
      "cell_type": "code",
      "metadata": {
        "id": "nV__2l7_cyeu"
      },
      "source": [
        "from sklearn.impute import SimpleImputer\r\n",
        "from sklearn.preprocessing import StandardScaler, OneHotEncoder\r\n",
        "from sklearn.compose import make_column_selector, make_column_transformer\r\n",
        "from sklearn.pipeline import make_pipeline\r\n",
        "from sklearn.linear_model import LogisticRegression\r\n",
        "from sklearn.model_selection import cross_val_score"
      ],
      "execution_count": null,
      "outputs": []
    },
    {
      "cell_type": "code",
      "metadata": {
        "id": "2RtYKhKKc7oY"
      },
      "source": [
        "# set up preprocessing for numeric columns\r\n",
        "imp_median = SimpleImputer(strategy='median', add_indicator=True)\r\n",
        "scaler = StandardScaler()\r\n",
        "\r\n",
        "\r\n",
        "# set up preprocessing for categorical columns\r\n",
        "imp_constant = SimpleImputer(strategy='constant')\r\n",
        "ohe = OneHotEncoder(handle_unknown='ignore')\r\n"
      ],
      "execution_count": null,
      "outputs": []
    },
    {
      "cell_type": "code",
      "metadata": {
        "id": "_6FBk2BVc9ob"
      },
      "source": [
        "# select columns by data type\r\n",
        "num_cols = make_column_selector(dtype_include='number')\r\n",
        "cat_cols = make_column_selector(dtype_exclude='number')\r\n",
        "\r\n",
        "\r\n",
        "\r\n",
        "# do all preprocessing\r\n",
        "preprocessor = make_column_transformer((make_pipeline(imp_median, scaler), num_cols),(make_pipeline(imp_constant, ohe), cat_cols))"
      ],
      "execution_count": null,
      "outputs": []
    },
    {
      "cell_type": "code",
      "metadata": {
        "id": "pHYwGnjjdJ_X"
      },
      "source": [
        "# create a pipeline\r\n",
        "pipe = make_pipeline(preprocessor, LogisticRegression())\r\n"
      ],
      "execution_count": null,
      "outputs": []
    },
    {
      "cell_type": "code",
      "metadata": {
        "id": "GNCattI-dOE1"
      },
      "source": [
        "# cross-validate the pipeline\r\n",
        "cross_val_score(pipe, X, y).mean()\r\n",
        "\r\n"
      ],
      "execution_count": null,
      "outputs": []
    },
    {
      "cell_type": "code",
      "metadata": {
        "id": "-sWrr8bOjqVW"
      },
      "source": [
        "\r\n",
        "# fit the pipeline and make predictions\r\n",
        "pipe.fit(X, y)\r\n",
        "pipe.predict(X_new)"
      ],
      "execution_count": null,
      "outputs": []
    },
    {
      "cell_type": "code",
      "metadata": {
        "id": "mQuwykOQj_hC"
      },
      "source": [
        ""
      ],
      "execution_count": null,
      "outputs": []
    }
  ]
}