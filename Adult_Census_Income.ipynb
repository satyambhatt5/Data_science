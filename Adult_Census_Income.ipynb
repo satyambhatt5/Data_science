{
  "nbformat": 4,
  "nbformat_minor": 0,
  "metadata": {
    "colab": {
      "name": "Adult Census Income.ipynb",
      "private_outputs": true,
      "provenance": [],
      "collapsed_sections": [],
      "mount_file_id": "1nTGyDCuOOXuOhIer6C3B4nSyHzMZhva_",
      "authorship_tag": "ABX9TyMBTS1SRTys1C4w/YvyxIsX",
      "include_colab_link": true
    },
    "kernelspec": {
      "name": "python3",
      "display_name": "Python 3"
    }
  },
  "cells": [
    {
      "cell_type": "markdown",
      "metadata": {
        "id": "view-in-github",
        "colab_type": "text"
      },
      "source": [
        "<a href=\"https://colab.research.google.com/github/satyambhatt5/Data_science/blob/main/Adult_Census_Income.ipynb\" target=\"_parent\"><img src=\"https://colab.research.google.com/assets/colab-badge.svg\" alt=\"Open In Colab\"/></a>"
      ]
    },
    {
      "cell_type": "code",
      "metadata": {
        "id": "oixJa1dAX7UT"
      },
      "source": [
        "#!mkdir -p /root/.kaggle/\r\n",
        "#!mv kaggle.json /root/.kaggle/"
      ],
      "execution_count": null,
      "outputs": []
    },
    {
      "cell_type": "code",
      "metadata": {
        "id": "kt00sSEzXh3F"
      },
      "source": [
        "import pandas as pd\r\n",
        "import numpy as np\r\n",
        "import matplotlib.pyplot as plt\r\n",
        "import seaborn as sns\r\n",
        "import xgboost as xgb\r\n",
        "from sklearn.linear_model import LogisticRegression\r\n",
        "from sklearn.preprocessing import OneHotEncoder,OrdinalEncoder,LabelEncoder\r\n",
        "from sklearn.ensemble import RandomForestClassifier\r\n",
        "from sklearn.tree import DecisionTreeClassifier\r\n",
        "from sklearn.svm import SVC\r\n",
        "from sklearn.ensemble import ExtraTreesClassifier\r\n",
        "from sklearn.ensemble import AdaBoostClassifier\r\n",
        "from sklearn import preprocessing\r\n",
        "from sklearn.ensemble import GradientBoostingClassifier\r\n",
        "from sklearn.naive_bayes import GaussianNB\r\n",
        "from sklearn.ensemble import VotingClassifier\r\n",
        "from sklearn.model_selection import KFold,StratifiedKFold\r\n",
        " \r\n",
        "#neural network with tensor flow and kearas\r\n",
        "import tensorflow as tf\r\n",
        "from tensorflow.keras.models import Sequential\r\n",
        "from tensorflow.keras.layers import Dense,Dropout\r\n",
        "from sklearn.metrics import confusion_matrix,f1_score,accuracy_score,classification_report,roc_auc_score\r\n"
      ],
      "execution_count": null,
      "outputs": []
    },
    {
      "cell_type": "code",
      "metadata": {
        "id": "5HhihEDRXr4G"
      },
      "source": [
        "ad=pd.read_csv(\"/content/drive/MyDrive/Kfold data/adult.csv\")\r\n",
        "ad.info()\r\n",
        "ad.describe()\r\n",
        "ad.head()"
      ],
      "execution_count": null,
      "outputs": []
    },
    {
      "cell_type": "code",
      "metadata": {
        "id": "Rf6dpuyHZKGn"
      },
      "source": [
        "ad.occupation.unique()\r\n",
        "\r\n",
        "ad.income.value_counts()\r\n",
        "\r\n",
        "\r\n",
        "num_coloum=[\"fnlwgt\",\"age\",\"capital.gain\",\"capital.loss\",\"hours.per.week\"]\r\n"
      ],
      "execution_count": null,
      "outputs": []
    },
    {
      "cell_type": "code",
      "metadata": {
        "id": "_JNBMZIqF7CO"
      },
      "source": [
        "ap=ad.drop(num_coloum,axis=1)\r\n",
        "ap\r\n",
        "\r\n",
        "\r\n",
        "#target mapping \r\n",
        "#map target 0 to 1\r\n",
        "\r\n",
        "\r\n",
        "\r\n",
        "\r\n",
        "\r\n"
      ],
      "execution_count": null,
      "outputs": []
    },
    {
      "cell_type": "code",
      "metadata": {
        "id": "5tob8HwyUBZP"
      },
      "source": [
        ""
      ],
      "execution_count": null,
      "outputs": []
    },
    {
      "cell_type": "code",
      "metadata": {
        "id": "KCIe_FcyRMB8"
      },
      "source": [
        "#!pip install https://github.com/pandas-profiling/pandas-profiling/archive/master.zip\r\n",
        "\r\n",
        " \r\n"
      ],
      "execution_count": null,
      "outputs": []
    },
    {
      "cell_type": "code",
      "metadata": {
        "id": "NyMArZ5NUFS_"
      },
      "source": [
        "from pandas_profiling import ProfileReport\r\n",
        "profile = ProfileReport(ad)\r\n",
        "profile"
      ],
      "execution_count": null,
      "outputs": []
    },
    {
      "cell_type": "code",
      "metadata": {
        "id": "3a58vPEXW_hV"
      },
      "source": [
        "! pip install klib"
      ],
      "execution_count": null,
      "outputs": []
    },
    {
      "cell_type": "code",
      "metadata": {
        "id": "LVRECztiXSOV"
      },
      "source": [
        " \r\n",
        "\r\n",
        "#https://klib.readthedocs.io/en/latest/\r\n",
        "\r\n",
        "import klib\r\n",
        "import pandas as pd\r\n",
        "df = pd.read_csv('https://github.com/akanz1/klib/raw/main/examples/NFL_DATASET.csv')\r\n",
        "\r\n",
        "klib.missingval_plot(df)"
      ],
      "execution_count": null,
      "outputs": []
    },
    {
      "cell_type": "code",
      "metadata": {
        "id": "auUDx2HpZzFl"
      },
      "source": [
        "df_cleaned = klib.data_cleaning(df)"
      ],
      "execution_count": null,
      "outputs": []
    },
    {
      "cell_type": "code",
      "metadata": {
        "id": "qkAGfg5DaQko"
      },
      "source": [
        "klib.corr_plot(df_cleaned, annot=False)"
      ],
      "execution_count": null,
      "outputs": []
    },
    {
      "cell_type": "code",
      "metadata": {
        "id": "QWo4MRSwah_b"
      },
      "source": [
        "klib.cat_plot(df, figsize=(50,15))"
      ],
      "execution_count": null,
      "outputs": []
    },
    {
      "cell_type": "code",
      "metadata": {
        "id": "0apaZ0EMHhB6"
      },
      "source": [
        "target={\"<=50K\":0,  \">50K\":1}\r\n",
        "\r\n",
        "\r\n",
        "ad.iloc[:,-1]= ad.income.map(target)\r\n",
        "ad.iloc[:,-1]\r\n",
        "\r\n",
        "\r\n",
        "\r\n",
        "\r\n",
        "\r\n",
        "\r\n",
        "\r\n"
      ],
      "execution_count": null,
      "outputs": []
    },
    {
      "cell_type": "markdown",
      "metadata": {
        "id": "danMbMw4fOe3"
      },
      "source": [
        "![image.png](data:image/png;base64,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)"
      ]
    },
    {
      "cell_type": "code",
      "metadata": {
        "id": "74ngIuX9f891"
      },
      "source": [
        "if __name__ == \"__main__\":\r\n",
        "\r\n",
        "  #read the data  \r\n",
        "\r\n",
        "  df =pd.read_csv(\"/content/drive/MyDrive/Kfold data/adult.csv\")\r\n",
        "\r\n",
        "  #create the folder Kfold fill with -1\r\n",
        "\r\n",
        "  df[\"kfold\"]=-1\r\n",
        "\r\n",
        "  #next the step randomize the data in row \r\n",
        "  df=df.sample(frac=1).reset_index(drop=True)\r\n",
        "\r\n",
        "  #fetch label\r\n",
        "\r\n",
        "  y=df.income.values\r\n",
        "\r\n",
        "  #initiate the kfold class from model selection \r\n",
        "\r\n",
        "  kf=StratifiedKFold(n_splits=5)\r\n",
        "\r\n",
        "  #filled with kfold coloums \r\n",
        "\r\n",
        "  for f,(t_,v_) in enumerate(kf.split(X=df,y = y)):\r\n",
        "    df.loc[v_,\"kfold\"] =f\r\n",
        "\r\n",
        "  #save the new csv in kfold colum\r\n",
        "\r\n",
        "  df.to_csv(\"//content/drive/MyDrive/Kfold data/adult_fold.csv\",index=False)"
      ],
      "execution_count": null,
      "outputs": []
    },
    {
      "cell_type": "code",
      "metadata": {
        "id": "HRaaaUjyaL_-"
      },
      "source": [
        "#now we are going to delete the some numerical coloum in this data set \r\n",
        "\r\n",
        "def run(fold):\r\n",
        "  #read the data \r\n",
        "  ad=pd.read_csv(\"/content/drive/MyDrive/Kfold data/adult_fold.csv\")\r\n",
        "\r\n",
        "  #delete the some coloum \r\n",
        "\r\n",
        "  num_coloum=[\"fnlwgt\",\"age\",\"capital.gain\",\"capital.loss\",\"hours.per.week\"]\r\n",
        "\r\n",
        "  ad=ad.drop(num_coloum,axis=1)\r\n",
        "\r\n",
        "  #map target 0 to 1\r\n",
        "\r\n",
        "  target_mapping={\"<=50K\":0,\">50K\":1}\r\n",
        "\r\n",
        "  ad.loc[: ,-1]=ad.income.map(target_mapping)\r\n",
        "\r\n",
        "  #all the feature except coloum \r\n",
        "\r\n",
        "\r\n",
        "  features= [f for f in ad.columns if f not in (\"kfold\",\"income\")]\r\n",
        " #fill the nan value and cover the all values in nan value \r\n",
        " #i am converting the all coloum value in string \r\n",
        " #it does not matter because it is category value \r\n",
        "  for col in features:\r\n",
        "   ad.loc[:,col]= ad[col].astype(str).fillna(\"None\")\r\n",
        " #get training data using fold \r\n",
        "\r\n",
        "  train_ad= ad[ad.kfold !=fold].reset_index(drop=True)\r\n",
        "\r\n",
        "  #validation data using k fold \r\n",
        "\r\n",
        "  valid_ad=ad[ad.kfold == fold].reset_index(drop= True)\r\n",
        "\r\n",
        " #now intilize the one hot encoding technique \r\n",
        "\r\n",
        "  ohe =OneHotEncoder()\r\n",
        "\r\n",
        " #now full concat the data training and validation\r\n",
        "\r\n",
        "  full_data =pd.concat([train_ad[features],valid_ad[features]],axis=0)\r\n",
        "\r\n",
        "\r\n",
        " #now fit the data \r\n",
        "\r\n",
        "  ohe.fit(full_data[features])\r\n",
        "\r\n",
        " #train the data fit and transform \r\n",
        "\r\n",
        "  x_train= ohe.transform(train_ad[features])\r\n",
        "\r\n",
        "  #valid the data \r\n",
        "\r\n",
        "  x_valid =ohe.transform(valid_ad[features])\r\n",
        "\r\n",
        "  #initiate the model\r\n",
        "\r\n",
        "  model=LogisticRegression()\r\n",
        "\r\n",
        "  model.fit(x_train,train_ad.income.values)\r\n",
        "\r\n",
        "\r\n",
        "  #predict the validatin data \r\n",
        "\r\n",
        "  #we need probility value we are calculating the auc value \r\n",
        "\r\n",
        "  #we will use probility of it  \r\n",
        "\r\n",
        "  valid_pred= model.predict_proba(x_valid)[:,1]\r\n",
        "\r\n",
        "\r\n",
        "  #we get the roc and auc score \r\n",
        "\r\n",
        "\r\n",
        "  auc=roc_auc_score(valid_ad.income.values,valid_pred)\r\n",
        "\r\n",
        "  print(f\"fold = {fold}, auc = {auc}\")\r\n",
        "\r\n",
        " \r\n",
        "if __name__ == \"__main__\":\r\n",
        "  for fold_ in range(5):\r\n",
        "    run(fold=fold_)\r\n",
        "   #run the fold =0\r\n",
        "   #we replace with number \r\n"
      ],
      "execution_count": null,
      "outputs": []
    },
    {
      "cell_type": "markdown",
      "metadata": {
        "id": "-2smgCiFeSnu"
      },
      "source": [
        "https://colab.research.google.com/drive/1QUtD14XJhpVn8249M9n0oUstQv5PxowC#scrollTo=Xi3XblvvHgVD"
      ]
    },
    {
      "cell_type": "code",
      "metadata": {
        "id": "BcWkK1_Qf6lL"
      },
      "source": [
        "#label encoder and xgboost algorthim \r\n",
        "\r\n",
        "def run(fold):\r\n",
        "  md=pd.read_csv(\"/content/drive/MyDrive/Kfold data/adult_fold.csv\")\r\n",
        "\r\n",
        "  #delete the some coloum \r\n",
        "\r\n",
        "  num_coloum=[\"fnlwgt\",\"age\",\"capital.gain\",\"capital.loss\",\"hours.per.week\"]\r\n",
        "\r\n",
        "  md=md.drop(num_coloum,axis=1)\r\n",
        "\r\n",
        "  #map target 0 to 1\r\n",
        "\r\n",
        "  target_mapping={\"<=50K\":0,\">50K\":1}\r\n",
        "\r\n",
        "  md.loc[: ,-1]=md.income.map(target_mapping)\r\n",
        "\r\n",
        "\r\n",
        "  features= [f for f in md.columns if f not in (\"kfold\",\"income\")]\r\n",
        "  #fill the nan value and cover the all values in nan value \r\n",
        "  #i am converting the all coloum value in string \r\n",
        "  #it does not matter because it is category value \r\n",
        "  for col in features:\r\n",
        "    md.loc[:, col]= md[col].astype(str).fillna(\"None\")\r\n",
        "\r\n",
        "  for col in features:\r\n",
        "    lb =LabelEncoder()\r\n",
        "\r\n",
        "    #fitt label encoder in all the data \r\n",
        "\r\n",
        "    lb.fit(md[col])\r\n",
        "\r\n",
        "    #transform the all data \r\n",
        " \r\n",
        "  md.loc[:,col] =lb.transform(md[col])\r\n",
        "\r\n",
        "  #get training data using fold \r\n",
        "\r\n",
        "  train_md= md[md.kfold !=fold].reset_index(drop=True)\r\n",
        "\r\n",
        "  #validation data using k fold \r\n",
        "\r\n",
        "  valid_md=md[md.kfold == fold].reset_index(drop= True)\r\n",
        "\r\n",
        "\r\n",
        "  #train the data fit and transform \r\n",
        "\r\n",
        "  x_train= train_md[features].values\r\n",
        "\r\n",
        "  #valid the data \r\n",
        "  x_valid = valid_md[features].values\r\n",
        "\r\n",
        "  #initiate the model\r\n",
        "\r\n",
        "  model=xgb.XGBClassifier(job=-1)\r\n",
        "\r\n",
        "  model.fit(x_train, train_md.income.values)\r\n",
        "\r\n",
        "  #predict the validatin data \r\n",
        "\r\n",
        "  #we need probility value we are calculating the auc value \r\n",
        "\r\n",
        "  #we will use probility of it  \r\n",
        "\r\n",
        "  valid_pred= model.predict_proba(x_valid)[:,1]\r\n",
        "\r\n",
        "\r\n",
        "  #we get the roc and auc score \r\n",
        "\r\n",
        "\r\n",
        "  auc=roc_auc_score(valid_md.income,valid_pred)\r\n",
        "\r\n",
        "  print(f\"fold = {fold}, auc = {auc}\")\r\n",
        "\r\n",
        " \r\n",
        "if __name__ == \"__main__\":\r\n",
        "  for fold_ in range(5):\r\n",
        "    run(fold=fold_)\r\n",
        "   #run the fold =0\r\n",
        "   #we replace with number "
      ],
      "execution_count": null,
      "outputs": []
    },
    {
      "cell_type": "code",
      "metadata": {
        "id": "gGfCYBdCmJ8X"
      },
      "source": [
        ""
      ],
      "execution_count": null,
      "outputs": []
    }
  ]
}