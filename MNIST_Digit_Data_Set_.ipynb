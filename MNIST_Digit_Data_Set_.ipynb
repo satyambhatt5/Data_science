{
  "nbformat": 4,
  "nbformat_minor": 0,
  "metadata": {
    "colab": {
      "name": "MNIST Digit Data Set .ipynb",
      "provenance": [],
      "collapsed_sections": [],
      "authorship_tag": "ABX9TyOLi6fNCwECgsqs+y3XZjBi",
      "include_colab_link": true
    },
    "kernelspec": {
      "name": "python3",
      "display_name": "Python 3"
    }
  },
  "cells": [
    {
      "cell_type": "markdown",
      "metadata": {
        "id": "view-in-github",
        "colab_type": "text"
      },
      "source": [
        "<a href=\"https://colab.research.google.com/github/satyambhatt5/Satyam/blob/main/MNIST_Digit_Data_Set_.ipynb\" target=\"_parent\"><img src=\"https://colab.research.google.com/assets/colab-badge.svg\" alt=\"Open In Colab\"/></a>"
      ]
    },
    {
      "cell_type": "code",
      "metadata": {
        "id": "ysD_YMeiFisI"
      },
      "source": [
        "import pandas as pd\n",
        "import numpy as np\n",
        "import matplotlib.pyplot as plt\n",
        "%matplotlib inline\n"
      ],
      "execution_count": 1,
      "outputs": []
    },
    {
      "cell_type": "code",
      "metadata": {
        "id": "hu642k25GRNA"
      },
      "source": [
        "from sklearn.datasets import load_digits,fetch_openml"
      ],
      "execution_count": 2,
      "outputs": []
    },
    {
      "cell_type": "code",
      "metadata": {
        "id": "MuAl6mbAHuqu"
      },
      "source": [
        "\n",
        "#split the data into training and testing \n",
        "from sklearn.model_selection import train_test_split"
      ],
      "execution_count": 3,
      "outputs": []
    },
    {
      "cell_type": "code",
      "metadata": {
        "id": "CE5EJ8AXIXXh"
      },
      "source": [
        "#find the metrics of the data \n",
        "from sklearn.metrics import accuracy_score,confusion_matrix\n"
      ],
      "execution_count": 4,
      "outputs": []
    },
    {
      "cell_type": "code",
      "metadata": {
        "id": "gZaMHbfQJQQD"
      },
      "source": [
        "#loading the data load_digit package it should have images and data set  \n",
        "\n",
        "digits =load_digits()"
      ],
      "execution_count": 5,
      "outputs": []
    },
    {
      "cell_type": "code",
      "metadata": {
        "id": "iQLD2Ow5Jwq9",
        "colab": {
          "base_uri": "https://localhost:8080/"
        },
        "outputId": "4c6e1b40-a933-4aad-9f70-cb46a8167386"
      },
      "source": [
        "#hence there is two form   1- data ,2- Target \n",
        "\n",
        "print(digits.data.shape)\n",
        "print(digits.target.shape)"
      ],
      "execution_count": 6,
      "outputs": [
        {
          "output_type": "stream",
          "text": [
            "(1797, 64)\n",
            "(1797,)\n"
          ],
          "name": "stdout"
        }
      ]
    },
    {
      "cell_type": "markdown",
      "metadata": {
        "id": "OHQ0YYpua8zv"
      },
      "source": [
        "# PRINT TOP  FIVE RECORD FROM THE DIGIT DATA SET \n",
        "\n",
        "def plot_images(data,target,img_shape=(8,8)):\n",
        "  \n",
        "  plt.figure(figsize=(20,5))\n",
        "  \n",
        "  for index,(image,label) in enumerate(zip(data[:5],target[:5])): \n",
        "    #Enter the inside the data into the target data set or manage image and label enumrate means show the data \n",
        "    \n",
        "    \n",
        "    plt.subplot(1,5,index+1)\n",
        "    #building the image with new image  cmap =plt.cm.gray will help  to find the accuracy   \n",
        "    \n",
        "    \n",
        "    plt.imshow(np.reshape(image,img_shape),cmap=plt.cm.gray)\n",
        "    plt.title(\"training %i\\n\" %label,frontsize=20)\n",
        "    "
      ]
    },
    {
      "cell_type": "code",
      "metadata": {
        "id": "xIc5nhxJK72H"
      },
      "source": [
        "def plot_images(data,target,img_shape=(8,8)):\n",
        "    plt.figure(figsize=(20,5))\n",
        "    for index,(image,label) in enumerate(zip(data[:5],target[:5])):\n",
        "        plt.subplot(1,5,index+1)\n",
        "        plt.imshow(np.reshape(image,img_shape),cmap=plt.cm.gray)\n",
        "        plt.title(\"Training %i\\n\" %label,fontsize=20)"
      ],
      "execution_count": 7,
      "outputs": []
    },
    {
      "cell_type": "code",
      "metadata": {
        "id": "6o2LT1PiO4d5",
        "colab": {
          "base_uri": "https://localhost:8080/",
          "height": 283
        },
        "outputId": "189b984b-afef-4deb-a864-98ad3a223b98"
      },
      "source": [
        "plot_images(digits.data,digits.target)"
      ],
      "execution_count": 8,
      "outputs": [
        {
          "output_type": "display_data",
          "data": {
            "image/png": "[encoded data removed]",
            "text/plain": [
              "<Figure size 1440x360 with 5 Axes>"
            ]
          },
          "metadata": {
            "tags": [],
            "needs_background": "light"
          }
        }
      ]
    },
    {
      "cell_type": "code",
      "metadata": {
        "id": "2cyY_PkLWLc-"
      },
      "source": [
        "#training the data with machine learning  model   \n",
        "\n",
        "from sklearn.model_selection import train_test_split\n",
        "x_train,x_test,y_train,y_test= train_test_split(digits.data,digits.target,test_size=.25,random_state=100)\n"
      ],
      "execution_count": 9,
      "outputs": []
    },
    {
      "cell_type": "code",
      "metadata": {
        "id": "t1MVSOHrf0kv"
      },
      "source": [
        "#buiding the logistic regression   system   \n",
        "from sklearn.linear_model import LogisticRegression"
      ],
      "execution_count": 10,
      "outputs": []
    },
    {
      "cell_type": "code",
      "metadata": {
        "id": "Vylltdh1gs67"
      },
      "source": [
        "lr= LogisticRegression()"
      ],
      "execution_count": 11,
      "outputs": []
    },
    {
      "cell_type": "code",
      "metadata": {
        "id": "h9xIGmgjg1-B",
        "colab": {
          "base_uri": "https://localhost:8080/"
        },
        "outputId": "6c1fd86c-2717-42bf-a634-aa72cb6bcb56"
      },
      "source": [
        "#model had learn the data sucessfully  \n",
        "lr.fit(x_train,y_train)\n"
      ],
      "execution_count": 12,
      "outputs": [
        {
          "output_type": "stream",
          "text": [
            "/usr/local/lib/python3.6/dist-packages/sklearn/linear_model/_logistic.py:940: ConvergenceWarning: lbfgs failed to converge (status=1):\n",
            "STOP: TOTAL NO. of ITERATIONS REACHED LIMIT.\n",
            "\n",
            "Increase the number of iterations (max_iter) or scale the data as shown in:\n",
            "    https://scikit-learn.org/stable/modules/preprocessing.html\n",
            "Please also refer to the documentation for alternative solver options:\n",
            "    https://scikit-learn.org/stable/modules/linear_model.html#logistic-regression\n",
            "  extra_warning_msg=_LOGISTIC_SOLVER_CONVERGENCE_MSG)\n"
          ],
          "name": "stderr"
        },
        {
          "output_type": "execute_result",
          "data": {
            "text/plain": [
              "LogisticRegression(C=1.0, class_weight=None, dual=False, fit_intercept=True,\n",
              "                   intercept_scaling=1, l1_ratio=None, max_iter=100,\n",
              "                   multi_class='auto', n_jobs=None, penalty='l2',\n",
              "                   random_state=None, solver='lbfgs', tol=0.0001, verbose=0,\n",
              "                   warm_start=False)"
            ]
          },
          "metadata": {
            "tags": []
          },
          "execution_count": 12
        }
      ]
    },
    {
      "cell_type": "code",
      "metadata": {
        "id": "gwk61Fr1hDoK"
      },
      "source": [
        "#now we predict the data while using x_test data \n",
        "\n",
        "y_pred=lr.predict(x_test)"
      ],
      "execution_count": 13,
      "outputs": []
    },
    {
      "cell_type": "code",
      "metadata": {
        "id": "cVEdyMluhokH",
        "colab": {
          "base_uri": "https://localhost:8080/"
        },
        "outputId": "63a842fa-5999-496f-88e0-fb8d5ac49b56"
      },
      "source": [
        "#now find the accuracy score of the model by trained model  \n",
        "score=accuracy_score(y_test,y_pred)\n",
        "score"
      ],
      "execution_count": 14,
      "outputs": [
        {
          "output_type": "execute_result",
          "data": {
            "text/plain": [
              "0.9688888888888889"
            ]
          },
          "metadata": {
            "tags": []
          },
          "execution_count": 14
        }
      ]
    },
    {
      "cell_type": "code",
      "metadata": {
        "id": "ZBXNFdzYicOi"
      },
      "source": [
        ""
      ],
      "execution_count": 14,
      "outputs": []
    },
    {
      "cell_type": "code",
      "metadata": {
        "id": "PGTr0NEOipT6"
      },
      "source": [
        "#now find the confusion  matrix  \n",
        "\n",
        "cm=confusion_matrix(y_test,y_pred)"
      ],
      "execution_count": 15,
      "outputs": []
    },
    {
      "cell_type": "code",
      "metadata": {
        "id": "IkTIpzcejVsH",
        "colab": {
          "base_uri": "https://localhost:8080/"
        },
        "outputId": "4ec13eee-7564-447d-e8b9-89e83e2bd5d1"
      },
      "source": [
        "cm"
      ],
      "execution_count": 16,
      "outputs": [
        {
          "output_type": "execute_result",
          "data": {
            "text/plain": [
              "array([[49,  0,  0,  0,  0,  0,  0,  0,  0,  0],\n",
              "       [ 0, 36,  0,  0,  0,  0,  0,  0,  1,  0],\n",
              "       [ 0,  0, 51,  0,  0,  0,  0,  0,  0,  0],\n",
              "       [ 0,  0,  0, 37,  0,  0,  0,  0,  0,  2],\n",
              "       [ 0,  0,  0,  0, 52,  0,  0,  0,  0,  2],\n",
              "       [ 0,  0,  0,  0,  0, 42,  1,  0,  0,  0],\n",
              "       [ 0,  0,  0,  0,  0,  0, 46,  0,  1,  0],\n",
              "       [ 0,  0,  0,  0,  1,  0,  0, 42,  0,  1],\n",
              "       [ 0,  2,  0,  0,  0,  1,  0,  0, 38,  0],\n",
              "       [ 0,  0,  0,  1,  0,  0,  0,  1,  0, 43]])"
            ]
          },
          "metadata": {
            "tags": []
          },
          "execution_count": 16
        }
      ]
    },
    {
      "cell_type": "code",
      "metadata": {
        "id": "q1U_aQspjXsU"
      },
      "source": [
        "def get_misclassified_index(y_pred,y_test):\n",
        "  misclassification=[]\n",
        "  for index,(predicted,actual) in enumerate(zip(y_pred,y_test)):\n",
        "    if predicted!=actual:\n",
        "      misclassification.append(index)\n",
        "      return misclassification"
      ],
      "execution_count": 17,
      "outputs": []
    },
    {
      "cell_type": "code",
      "metadata": {
        "id": "SzvHwRyDl5Yk"
      },
      "source": [
        "misclassification=get_misclassified_index(y_pred,y_test)\n"
      ],
      "execution_count": 18,
      "outputs": []
    },
    {
      "cell_type": "code",
      "metadata": {
        "id": "rnYb6kPgl8jK"
      },
      "source": [
        "def plot_misclassifications(misclassification,img_shape=(8,8)):\n",
        "    plt.figure(figsize=(20,4))\n",
        "    for index,wrong in enumerate(misclassification[0:5]):\n",
        "        plt.subplot(1,5,index+1)\n",
        "        plt.imshow(np.reshape(x_test[wrong],img_shape),cmap=plt.cm.gray)\n",
        "        plt.title(\"Predicted:{} Actual:{}\".format(y_pred[wrong],y_test[wrong]))"
      ],
      "execution_count": 19,
      "outputs": []
    },
    {
      "cell_type": "code",
      "metadata": {
        "id": "talxYEiFmBwX",
        "colab": {
          "base_uri": "https://localhost:8080/",
          "height": 256
        },
        "outputId": "12ebb8a7-bb37-4269-9714-dd67dd1bf55c"
      },
      "source": [
        "plot_misclassifications(misclassification)"
      ],
      "execution_count": 20,
      "outputs": [
        {
          "output_type": "display_data",
          "data": {
            "image/png": "[encoded data removed]",
            "text/plain": [
              "<Figure size 1440x288 with 1 Axes>"
            ]
          },
          "metadata": {
            "tags": [],
            "needs_background": "light"
          }
        }
      ]
    },
    {
      "cell_type": "code",
      "metadata": {
        "id": "wFthLiHpmHdB"
      },
      "source": [
        ""
      ],
      "execution_count": 20,
      "outputs": []
    }
  ]
}