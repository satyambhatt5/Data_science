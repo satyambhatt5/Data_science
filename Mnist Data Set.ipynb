{
  "nbformat": 4,
  "nbformat_minor": 0,
  "metadata": {
    "colab": {
      "name": "19th_Dec_ANN_(Keras_101).ipynb",
      "provenance": [],
      "collapsed_sections": [],
      "include_colab_link": true
    },
    "kernelspec": {
      "name": "python3",
      "display_name": "Python 3"
    }
  },
  "cells": [
    {
      "cell_type": "markdown",
      "metadata": {
        "id": "view-in-github",
        "colab_type": "text"
      },
      "source": [
        "<a href=\"https://colab.research.google.com/github/satyambhatt5/Satyam/blob/main/Mnist%20Data%20Set.ipynb\" target=\"_parent\"><img src=\"https://colab.research.google.com/assets/colab-badge.svg\" alt=\"Open In Colab\"/></a>"
      ]
    },
    {
      "cell_type": "code",
      "metadata": {
        "id": "1G_AJbQegZQK"
      },
      "source": [
        "# ANN - Artifical Neural Network"
      ],
      "execution_count": null,
      "outputs": []
    },
    {
      "cell_type": "code",
      "metadata": {
        "id": "odyw5CiqghoX"
      },
      "source": [
        "# Frameworks for Deep Learning \r\n",
        "# Old -> Caffe, Theano, Tefla, Torch\r\n",
        "# New -> TensorFlow (Google), PyTorch (FaceBook), CNTK (Microsoft), MXNet \r\n",
        "\r\n",
        "# Wrapper (API)\r\n",
        "# Keras"
      ],
      "execution_count": null,
      "outputs": []
    },
    {
      "cell_type": "code",
      "metadata": {
        "id": "KJ05epwbhOtj"
      },
      "source": [
        "# Keras has become the official wrapper for ONLY for TensorFlow"
      ],
      "execution_count": null,
      "outputs": []
    },
    {
      "cell_type": "code",
      "metadata": {
        "id": "9Q14iOqGiUpI"
      },
      "source": [
        "# Those of you who are on (local system)Jupyter might need to install TensorFlow (one time activity)\r\n",
        "# ! pip install tensorflow==2.0.0\r\n",
        "\r\n",
        "#Colab people dont need to worry - they have it pre installed "
      ],
      "execution_count": null,
      "outputs": []
    },
    {
      "cell_type": "code",
      "metadata": {
        "id": "m6ZnzMf2h8O1"
      },
      "source": [
        "import tensorflow as tf"
      ],
      "execution_count": null,
      "outputs": []
    },
    {
      "cell_type": "code",
      "metadata": {
        "colab": {
          "base_uri": "https://localhost:8080/",
          "height": 35
        },
        "id": "BpSmayV2iSqb",
        "outputId": "0ea82172-1e52-4195-ccae-d70c39d58eb5"
      },
      "source": [
        "tf.__version__ "
      ],
      "execution_count": null,
      "outputs": [
        {
          "output_type": "execute_result",
          "data": {
            "application/vnd.google.colaboratory.intrinsic+json": {
              "type": "string"
            },
            "text/plain": [
              "'2.4.0'"
            ]
          },
          "metadata": {
            "tags": []
          },
          "execution_count": 6
        }
      ]
    },
    {
      "cell_type": "code",
      "metadata": {
        "colab": {
          "base_uri": "https://localhost:8080/",
          "height": 35
        },
        "id": "FS-DXRuGipPv",
        "outputId": "7b1ecb09-ff5f-43d0-afa5-f6b3610da4bf"
      },
      "source": [
        "tf.keras.__version__"
      ],
      "execution_count": null,
      "outputs": [
        {
          "output_type": "execute_result",
          "data": {
            "application/vnd.google.colaboratory.intrinsic+json": {
              "type": "string"
            },
            "text/plain": [
              "'2.4.0'"
            ]
          },
          "metadata": {
            "tags": []
          },
          "execution_count": 7
        }
      ]
    },
    {
      "cell_type": "code",
      "metadata": {
        "id": "DfwTU6EAiuru",
        "colab": {
          "base_uri": "https://localhost:8080/"
        },
        "outputId": "2802afe6-94a9-48f9-f20f-8034e163df77"
      },
      "source": [
        "(x_train, y_train), (x_test, y_test) = tf.keras.datasets.mnist.load_data()"
      ],
      "execution_count": null,
      "outputs": [
        {
          "output_type": "stream",
          "text": [
            "Downloading data from https://storage.googleapis.com/tensorflow/tf-keras-datasets/mnist.npz\n",
            "11493376/11490434 [==============================] - 0s 0us/step\n"
          ],
          "name": "stdout"
        }
      ]
    },
    {
      "cell_type": "code",
      "metadata": {
        "id": "GsJa_hOLj4qj"
      },
      "source": [
        "# x - images \r\n",
        "# y - labels"
      ],
      "execution_count": null,
      "outputs": []
    },
    {
      "cell_type": "code",
      "metadata": {
        "colab": {
          "base_uri": "https://localhost:8080/"
        },
        "id": "iLKTqLygj-Fz",
        "outputId": "b525a465-ea33-492d-d4f6-665691015301"
      },
      "source": [
        "x_train.shape  # 60K - number of images # 28 is height & width of images # channels are not provided here (is deafult is 1 and 1 means grayscale )"
      ],
      "execution_count": null,
      "outputs": [
        {
          "output_type": "execute_result",
          "data": {
            "text/plain": [
              "(60000, 28, 28)"
            ]
          },
          "metadata": {
            "tags": []
          },
          "execution_count": 10
        }
      ]
    },
    {
      "cell_type": "code",
      "metadata": {
        "id": "dEsHycBskYBB"
      },
      "source": [
        "import matplotlib.pyplot as plt"
      ],
      "execution_count": null,
      "outputs": []
    },
    {
      "cell_type": "code",
      "metadata": {
        "colab": {
          "base_uri": "https://localhost:8080/"
        },
        "id": "I3vTX7EEnpNI",
        "outputId": "cc111b0d-2b93-4b19-e4f7-482350a1888f"
      },
      "source": [
        "255*255*255"
      ],
      "execution_count": null,
      "outputs": [
        {
          "output_type": "execute_result",
          "data": {
            "text/plain": [
              "16581375"
            ]
          },
          "metadata": {
            "tags": []
          },
          "execution_count": 12
        }
      ]
    },
    {
      "cell_type": "code",
      "metadata": {
        "colab": {
          "base_uri": "https://localhost:8080/",
          "height": 286
        },
        "id": "ZMfAhvb9k1ct",
        "outputId": "bb8c4260-2503-480a-aab8-bb6ee3693546"
      },
      "source": [
        "plt.subplot(331)\r\n",
        "plt.imshow(x_train[135], cmap=\"gray\")\r\n",
        "plt.subplot(332)\r\n",
        "plt.imshow(x_train[123], cmap=\"gray\")\r\n",
        "plt.subplot(333)\r\n",
        "plt.imshow(x_train[1], cmap=\"gray\")\r\n",
        "plt.subplot(334)\r\n",
        "plt.imshow(x_train[7], cmap=\"gray\")\r\n",
        "plt.subplot(335)\r\n",
        "plt.imshow(x_train[99], cmap=\"gray\")\r\n",
        "plt.subplot(336)\r\n",
        "plt.imshow(x_train[1000], cmap=\"gray\")\r\n",
        "plt.subplot(337)\r\n",
        "plt.imshow(x_train[2000], cmap=\"gray\")\r\n",
        "plt.subplot(338)\r\n",
        "plt.imshow(x_train[3000], cmap=\"gray\")\r\n",
        "plt.subplot(339)\r\n",
        "plt.imshow(x_train[4000], cmap=\"gray\")"
      ],
      "execution_count": null,
      "outputs": [
        {
          "output_type": "execute_result",
          "data": {
            "text/plain": [
              "<matplotlib.image.AxesImage at 0x7f4b5777feb8>"
            ]
          },
          "metadata": {
            "tags": []
          },
          "execution_count": 13
        },
        {
          "output_type": "display_data",
          "data": {
            "image/png": "[encoded data removed]",
            "text/plain": [
              "<Figure size 432x288 with 9 Axes>"
            ]
          },
          "metadata": {
            "tags": [],
            "needs_background": "light"
          }
        }
      ]
    },
    {
      "cell_type": "code",
      "metadata": {
        "id": "AhfwO6w7lD2n"
      },
      "source": [
        "# generic image by iPhone(12MP) with no setting - 3024*4032"
      ],
      "execution_count": null,
      "outputs": []
    },
    {
      "cell_type": "code",
      "metadata": {
        "colab": {
          "base_uri": "https://localhost:8080/",
          "height": 283
        },
        "id": "4UuSw4vrn5j1",
        "outputId": "9de41da9-8b05-4be5-ca48-c3f0e7f6a5f5"
      },
      "source": [
        "num = 1000\r\n",
        "plt.imshow(x_train[num],cmap=\"gray\")\r\n",
        "print(y_train[num])"
      ],
      "execution_count": null,
      "outputs": [
        {
          "output_type": "stream",
          "text": [
            "0\n"
          ],
          "name": "stdout"
        },
        {
          "output_type": "display_data",
          "data": {
            "image/png": "[encoded data removed]",
            "text/plain": [
              "<Figure size 432x288 with 1 Axes>"
            ]
          },
          "metadata": {
            "tags": [],
            "needs_background": "light"
          }
        }
      ]
    },
    {
      "cell_type": "code",
      "metadata": {
        "colab": {
          "base_uri": "https://localhost:8080/"
        },
        "id": "tzKsp0UmoE1o",
        "outputId": "fff310ff-fedf-4e17-853a-394d139b79ff"
      },
      "source": [
        "print(x_train[100])"
      ],
      "execution_count": null,
      "outputs": [
        {
          "output_type": "stream",
          "text": [
            "[[  0   0   0   0   0   0   0   0   0   0   0   0   0   0   0   0   0   0\n",
            "    0   0   0   0   0   0   0   0   0   0]\n",
            " [  0   0   0   0   0   0   0   0   0   0   0   0   0   0   0   0   0   0\n",
            "    0   0   0   0   0   0   0   0   0   0]\n",
            " [  0   0   0   0   0   0   0   0   0   0   0   0   0   0   0   0   0   0\n",
            "    0   0   0   0   0   0   0   0   0   0]\n",
            " [  0   0   0   0   0   0   0   0   0   0   0   0   0   0   0   0   0   0\n",
            "    0   0   0   0   0   0   0   0   0   0]\n",
            " [  0   0   0   0   0   0   0   0   0   0   0   0   0   0   0   0   0   0\n",
            "    0   0   0   0   0   0   0   0   0   0]\n",
            " [  0   0   0   0   0   0   0   0   0   0   0   0   0   0   0   0   0   0\n",
            "    0   0   0   0   0   0   0   0   0   0]\n",
            " [  0   0   0   0   0   0   0   0   0   0   0   0   0   2  18  46 136 136\n",
            "  244 255 241 103   0   0   0   0   0   0]\n",
            " [  0   0   0   0   0   0   0   0   0   0   0  15  94 163 253 253 253 253\n",
            "  238 218 204  35   0   0   0   0   0   0]\n",
            " [  0   0   0   0   0   0   0   0   0   0   0 131 253 253 253 253 237 200\n",
            "   57   0   0   0   0   0   0   0   0   0]\n",
            " [  0   0   0   0   0   0   0   0   0   0 155 246 253 247 108  65  45   0\n",
            "    0   0   0   0   0   0   0   0   0   0]\n",
            " [  0   0   0   0   0   0   0   0   0   0 207 253 253 230   0   0   0   0\n",
            "    0   0   0   0   0   0   0   0   0   0]\n",
            " [  0   0   0   0   0   0   0   0   0   0 157 253 253 125   0   0   0   0\n",
            "    0   0   0   0   0   0   0   0   0   0]\n",
            " [  0   0   0   0   0   0   0   0   0   0  89 253 250  57   0   0   0   0\n",
            "    0   0   0   0   0   0   0   0   0   0]\n",
            " [  0   0   0   0   0   0   0   0   0   0  89 253 247   0   0   0   0   0\n",
            "    0   0   0   0   0   0   0   0   0   0]\n",
            " [  0   0   0   0   0   0   0   0   0   0  89 253 247   0   0   0   0   0\n",
            "    0   0   0   0   0   0   0   0   0   0]\n",
            " [  0   0   0   0   0   0   0   0   0   0  89 253 247   0   0   0   0   0\n",
            "    0   0   0   0   0   0   0   0   0   0]\n",
            " [  0   0   0   0   0   0   0   0   0   0  21 231 249  34   0   0   0   0\n",
            "    0   0   0   0   0   0   0   0   0   0]\n",
            " [  0   0   0   0   0   0   0   0   0   0   0 225 253 231 213 213 123  16\n",
            "    0   0   0   0   0   0   0   0   0   0]\n",
            " [  0   0   0   0   0   0   0   0   0   0   0 172 253 253 253 253 253 190\n",
            "   63   0   0   0   0   0   0   0   0   0]\n",
            " [  0   0   0   0   0   0   0   0   0   0   0   2 116  72 124 209 253 253\n",
            "  141   0   0   0   0   0   0   0   0   0]\n",
            " [  0   0   0   0   0   0   0   0   0   0   0   0   0   0   0  25 219 253\n",
            "  206   3   0   0   0   0   0   0   0   0]\n",
            " [  0   0   0   0   0   0   0   0   0   0   0   0   0   0   0   0 104 246\n",
            "  253   5   0   0   0   0   0   0   0   0]\n",
            " [  0   0   0   0   0   0   0   0   0   0   0   0   0   0   0   0   0 213\n",
            "  253   5   0   0   0   0   0   0   0   0]\n",
            " [  0   0   0   0   0   0   0   0   0   0   0   0   0   0   0   0  26 226\n",
            "  253   5   0   0   0   0   0   0   0   0]\n",
            " [  0   0   0   0   0   0   0   0   0   0   0   0   0   0   0   0 132 253\n",
            "  209   3   0   0   0   0   0   0   0   0]\n",
            " [  0   0   0   0   0   0   0   0   0   0   0   0   0   0   0   0  78 253\n",
            "   86   0   0   0   0   0   0   0   0   0]\n",
            " [  0   0   0   0   0   0   0   0   0   0   0   0   0   0   0   0   0   0\n",
            "    0   0   0   0   0   0   0   0   0   0]\n",
            " [  0   0   0   0   0   0   0   0   0   0   0   0   0   0   0   0   0   0\n",
            "    0   0   0   0   0   0   0   0   0   0]]\n"
          ],
          "name": "stdout"
        }
      ]
    },
    {
      "cell_type": "code",
      "metadata": {
        "id": "sPYlKBLWoT1n"
      },
      "source": [
        "# 1. Collect data (images and labels both)\r\n",
        "# 2. Preprocess data (both images and labels)"
      ],
      "execution_count": null,
      "outputs": []
    },
    {
      "cell_type": "code",
      "metadata": {
        "id": "YTuu5ci1o-hW"
      },
      "source": [
        "# Preprocessing of images \r\n",
        "# 1. Normalization or Scaling (max Scaler)\r\n",
        "# Ex - [0, 5, 10, 15] / 15 = [0, 0.3, 0.5, 1]"
      ],
      "execution_count": null,
      "outputs": []
    },
    {
      "cell_type": "code",
      "metadata": {
        "colab": {
          "base_uri": "https://localhost:8080/",
          "height": 219
        },
        "id": "XSdipuA3qkWO",
        "outputId": "3ba0cc24-3c1d-49ae-b62d-4ff34a23790d"
      },
      "source": [
        "plt.subplot(121)\r\n",
        "plt.imshow(x_train[1000], cmap=\"gray\")\r\n",
        "\r\n",
        "plt.subplot(122)\r\n",
        "plt.imshow(x_train[1000]/255.0, cmap=\"gray\")"
      ],
      "execution_count": null,
      "outputs": [
        {
          "output_type": "execute_result",
          "data": {
            "text/plain": [
              "<matplotlib.image.AxesImage at 0x7f4b571d92e8>"
            ]
          },
          "metadata": {
            "tags": []
          },
          "execution_count": 19
        },
        {
          "output_type": "display_data",
          "data": {
            "image/png": "[encoded data removed]",
            "text/plain": [
              "<Figure size 432x288 with 2 Axes>"
            ]
          },
          "metadata": {
            "tags": [],
            "needs_background": "light"
          }
        }
      ]
    },
    {
      "cell_type": "code",
      "metadata": {
        "id": "7Ew2MH3jqx_H"
      },
      "source": [
        "# 2.1 Normalize the images (diving them by 255)\r\n",
        "x_train = x_train / 255"
      ],
      "execution_count": null,
      "outputs": []
    },
    {
      "cell_type": "code",
      "metadata": {
        "colab": {
          "base_uri": "https://localhost:8080/"
        },
        "id": "aQtXUu78rNWI",
        "outputId": "4e2bef3a-3420-44b5-975a-330d791ec0c7"
      },
      "source": [
        "print(x_train[1000])"
      ],
      "execution_count": null,
      "outputs": [
        {
          "output_type": "stream",
          "text": [
            "[[0.         0.         0.         0.         0.         0.\n",
            "  0.         0.         0.         0.         0.         0.\n",
            "  0.         0.         0.         0.         0.         0.\n",
            "  0.         0.         0.         0.         0.         0.\n",
            "  0.         0.         0.         0.        ]\n",
            " [0.         0.         0.         0.         0.         0.\n",
            "  0.         0.         0.         0.         0.         0.\n",
            "  0.         0.         0.         0.         0.         0.\n",
            "  0.         0.         0.         0.         0.         0.\n",
            "  0.         0.         0.         0.        ]\n",
            " [0.         0.         0.         0.         0.         0.\n",
            "  0.         0.         0.         0.         0.         0.\n",
            "  0.         0.         0.         0.         0.         0.\n",
            "  0.         0.         0.         0.         0.         0.\n",
            "  0.         0.         0.         0.        ]\n",
            " [0.         0.         0.         0.         0.         0.\n",
            "  0.         0.         0.         0.         0.         0.\n",
            "  0.         0.         0.         0.         0.         0.\n",
            "  0.         0.         0.         0.         0.         0.\n",
            "  0.         0.         0.         0.        ]\n",
            " [0.         0.         0.         0.         0.         0.\n",
            "  0.         0.         0.         0.         0.         0.\n",
            "  0.         0.         0.         0.         0.         0.\n",
            "  0.         0.         0.         0.         0.         0.\n",
            "  0.         0.         0.         0.        ]\n",
            " [0.         0.         0.         0.         0.         0.\n",
            "  0.         0.         0.         0.         0.         0.\n",
            "  0.         0.         0.14117647 0.57254902 0.99607843 1.\n",
            "  0.98431373 0.37254902 0.02352941 0.         0.         0.\n",
            "  0.         0.         0.         0.        ]\n",
            " [0.         0.         0.         0.         0.         0.\n",
            "  0.         0.         0.         0.         0.         0.\n",
            "  0.01176471 0.38039216 0.91764706 0.99607843 0.99607843 0.90980392\n",
            "  0.99607843 0.99607843 0.1372549  0.         0.         0.\n",
            "  0.         0.         0.         0.        ]\n",
            " [0.         0.         0.         0.         0.         0.\n",
            "  0.         0.         0.         0.         0.         0.34901961\n",
            "  0.54901961 0.99607843 0.99607843 0.68235294 0.2627451  0.12941176\n",
            "  0.78431373 0.99607843 0.74509804 0.         0.         0.\n",
            "  0.         0.         0.         0.        ]\n",
            " [0.         0.         0.         0.         0.         0.\n",
            "  0.         0.         0.         0.         0.42352941 0.99215686\n",
            "  0.99607843 0.92156863 0.2        0.00392157 0.         0.\n",
            "  0.04705882 0.99607843 0.99215686 0.21960784 0.         0.\n",
            "  0.         0.         0.         0.        ]\n",
            " [0.         0.         0.         0.         0.         0.\n",
            "  0.         0.         0.         0.04705882 0.84705882 0.99607843\n",
            "  0.95686275 0.21568627 0.         0.         0.         0.\n",
            "  0.02352941 0.83529412 0.99607843 0.22352941 0.         0.\n",
            "  0.         0.         0.         0.        ]\n",
            " [0.         0.         0.         0.         0.         0.\n",
            "  0.         0.         0.         0.09803922 0.99607843 0.99607843\n",
            "  0.51764706 0.         0.         0.         0.         0.\n",
            "  0.         0.65882353 0.99607843 0.22352941 0.         0.\n",
            "  0.         0.         0.         0.        ]\n",
            " [0.         0.         0.         0.         0.         0.\n",
            "  0.         0.         0.         0.17647059 0.99607843 0.95294118\n",
            "  0.13333333 0.         0.         0.         0.         0.\n",
            "  0.         0.65882353 0.99607843 0.22352941 0.         0.\n",
            "  0.         0.         0.         0.        ]\n",
            " [0.         0.         0.         0.         0.         0.\n",
            "  0.         0.         0.         0.50196078 0.99607843 0.61568627\n",
            "  0.         0.         0.         0.         0.         0.\n",
            "  0.         0.65882353 0.99607843 0.22352941 0.         0.\n",
            "  0.         0.         0.         0.        ]\n",
            " [0.         0.         0.         0.         0.         0.\n",
            "  0.         0.         0.0745098  0.89411765 0.99607843 0.41176471\n",
            "  0.         0.         0.         0.         0.         0.\n",
            "  0.02745098 0.89411765 0.99607843 0.22352941 0.         0.\n",
            "  0.         0.         0.         0.        ]\n",
            " [0.         0.         0.         0.         0.         0.\n",
            "  0.         0.         0.22745098 0.99607843 0.99607843 0.34117647\n",
            "  0.         0.         0.         0.         0.         0.\n",
            "  0.03921569 0.99607843 0.96470588 0.18431373 0.         0.\n",
            "  0.         0.         0.         0.        ]\n",
            " [0.         0.         0.         0.         0.         0.\n",
            "  0.         0.         0.22745098 0.99607843 0.99607843 0.03529412\n",
            "  0.         0.         0.         0.         0.         0.\n",
            "  0.03921569 0.99607843 0.82352941 0.         0.         0.\n",
            "  0.         0.         0.         0.        ]\n",
            " [0.         0.         0.         0.         0.         0.\n",
            "  0.         0.         0.22745098 0.99607843 0.99607843 0.03529412\n",
            "  0.         0.         0.         0.         0.         0.\n",
            "  0.41176471 0.99607843 0.35686275 0.         0.         0.\n",
            "  0.         0.         0.         0.        ]\n",
            " [0.         0.         0.         0.         0.         0.\n",
            "  0.         0.         0.01960784 0.85882353 0.99607843 0.03529412\n",
            "  0.         0.         0.         0.         0.         0.09411765\n",
            "  0.90196078 0.99607843 0.09411765 0.         0.         0.\n",
            "  0.         0.         0.         0.        ]\n",
            " [0.         0.         0.         0.         0.         0.\n",
            "  0.         0.         0.         0.84705882 0.99607843 0.03529412\n",
            "  0.         0.         0.         0.         0.         0.32941176\n",
            "  0.99607843 0.98431373 0.09019608 0.         0.         0.\n",
            "  0.         0.         0.         0.        ]\n",
            " [0.         0.         0.         0.         0.         0.\n",
            "  0.         0.         0.         0.84705882 0.99607843 0.14117647\n",
            "  0.         0.         0.         0.         0.08627451 0.81568627\n",
            "  0.98431373 0.36862745 0.         0.         0.         0.\n",
            "  0.         0.         0.         0.        ]\n",
            " [0.         0.         0.         0.         0.         0.\n",
            "  0.         0.         0.         0.50588235 0.99607843 0.47058824\n",
            "  0.         0.         0.         0.01176471 0.54901961 0.99607843\n",
            "  0.89803922 0.         0.         0.         0.         0.\n",
            "  0.         0.         0.         0.        ]\n",
            " [0.         0.         0.         0.         0.         0.\n",
            "  0.         0.         0.         0.3254902  0.99607843 0.87058824\n",
            "  0.06666667 0.         0.         0.35686275 0.99607843 0.9254902\n",
            "  0.20784314 0.         0.         0.         0.         0.\n",
            "  0.         0.         0.         0.        ]\n",
            " [0.         0.         0.         0.         0.         0.\n",
            "  0.         0.         0.         0.07058824 0.92156863 0.99607843\n",
            "  0.5254902  0.08235294 0.46666667 0.92941176 0.99607843 0.48627451\n",
            "  0.         0.         0.         0.         0.         0.\n",
            "  0.         0.         0.         0.        ]\n",
            " [0.         0.         0.         0.         0.         0.\n",
            "  0.         0.         0.         0.         0.20784314 0.97647059\n",
            "  0.99607843 0.91764706 0.98823529 0.99607843 0.6745098  0.01176471\n",
            "  0.         0.         0.         0.         0.         0.\n",
            "  0.         0.         0.         0.        ]\n",
            " [0.         0.         0.         0.         0.         0.\n",
            "  0.         0.         0.         0.         0.         0.45490196\n",
            "  0.92941176 0.99607843 0.99607843 0.52156863 0.07843137 0.\n",
            "  0.         0.         0.         0.         0.         0.\n",
            "  0.         0.         0.         0.        ]\n",
            " [0.         0.         0.         0.         0.         0.\n",
            "  0.         0.         0.         0.         0.         0.\n",
            "  0.         0.         0.         0.         0.         0.\n",
            "  0.         0.         0.         0.         0.         0.\n",
            "  0.         0.         0.         0.        ]\n",
            " [0.         0.         0.         0.         0.         0.\n",
            "  0.         0.         0.         0.         0.         0.\n",
            "  0.         0.         0.         0.         0.         0.\n",
            "  0.         0.         0.         0.         0.         0.\n",
            "  0.         0.         0.         0.        ]\n",
            " [0.         0.         0.         0.         0.         0.\n",
            "  0.         0.         0.         0.         0.         0.\n",
            "  0.         0.         0.         0.         0.         0.\n",
            "  0.         0.         0.         0.         0.         0.\n",
            "  0.         0.         0.         0.        ]]\n"
          ],
          "name": "stdout"
        }
      ]
    },
    {
      "cell_type": "code",
      "metadata": {
        "colab": {
          "base_uri": "https://localhost:8080/"
        },
        "id": "krb-9J20rQIp",
        "outputId": "144c4044-3c8b-49f4-e0d6-82cd0859665a"
      },
      "source": [
        "y_train"
      ],
      "execution_count": null,
      "outputs": [
        {
          "output_type": "execute_result",
          "data": {
            "text/plain": [
              "array([5, 0, 4, ..., 5, 6, 8], dtype=uint8)"
            ]
          },
          "metadata": {
            "tags": []
          },
          "execution_count": 22
        }
      ]
    },
    {
      "cell_type": "code",
      "metadata": {
        "id": "V2pyXkyJsuAv"
      },
      "source": [
        "# 2.2 Preprocessing of labels (One Hot Encoding)\r\n",
        "y_train_proc = tf.keras.utils.to_categorical(y_train)"
      ],
      "execution_count": null,
      "outputs": []
    },
    {
      "cell_type": "code",
      "metadata": {
        "colab": {
          "base_uri": "https://localhost:8080/"
        },
        "id": "A2kTAO_ruA2Y",
        "outputId": "62e2dd7c-5adb-4122-9c07-1326c45bed18"
      },
      "source": [
        "y_train_proc[0]"
      ],
      "execution_count": null,
      "outputs": [
        {
          "output_type": "execute_result",
          "data": {
            "text/plain": [
              "array([0., 0., 0., 0., 0., 1., 0., 0., 0., 0.], dtype=float32)"
            ]
          },
          "metadata": {
            "tags": []
          },
          "execution_count": 24
        }
      ]
    },
    {
      "cell_type": "code",
      "metadata": {
        "colab": {
          "base_uri": "https://localhost:8080/"
        },
        "id": "et8cJ31IuJTi",
        "outputId": "ae22c9a7-eab0-497b-ac2b-381bd5e7dbae"
      },
      "source": [
        "y_train_proc[1]"
      ],
      "execution_count": null,
      "outputs": [
        {
          "output_type": "execute_result",
          "data": {
            "text/plain": [
              "array([1., 0., 0., 0., 0., 0., 0., 0., 0., 0.], dtype=float32)"
            ]
          },
          "metadata": {
            "tags": []
          },
          "execution_count": 25
        }
      ]
    },
    {
      "cell_type": "code",
      "metadata": {
        "id": "RW-F1kPYupgg"
      },
      "source": [
        "# 3. Make model \r\n",
        "\r\n",
        "# Creating a sequential model \r\n",
        "model = tf.keras.models.Sequential()\r\n",
        "\r\n",
        "# Add a Flatten layer with a input shape\r\n",
        "model.add(tf.keras.layers.Flatten(input_shape=(28, 28)))\r\n",
        "# In the first layer always try to pass input_shape of image (also input_shape should only be passed in first layer)\r\n",
        "\r\n",
        "# Add a Dense layer with 512 units \r\n",
        "model.add(tf.keras.layers.Dense(512, activation=tf.keras.activations.relu))\r\n",
        "# We do an activation after the layer (ReLU)\r\n",
        "\r\n",
        "# final layer with 10 neurons and softmax as activation \r\n",
        "model.add(tf.keras.layers.Dense(10, activation=tf.keras.activations.softmax))\r\n",
        "# Softmax is a special activation used in last layer of classification problem"
      ],
      "execution_count": null,
      "outputs": []
    },
    {
      "cell_type": "code",
      "metadata": {
        "colab": {
          "base_uri": "https://localhost:8080/"
        },
        "id": "z2uYFntsvian",
        "outputId": "e4254df1-0e18-4337-a508-44124fc94bcc"
      },
      "source": [
        "model.summary()"
      ],
      "execution_count": null,
      "outputs": [
        {
          "output_type": "stream",
          "text": [
            "Model: \"sequential\"\n",
            "_________________________________________________________________\n",
            "Layer (type)                 Output Shape              Param #   \n",
            "=================================================================\n",
            "flatten (Flatten)            (None, 784)               0         \n",
            "_________________________________________________________________\n",
            "dense (Dense)                (None, 512)               401920    \n",
            "_________________________________________________________________\n",
            "dense_1 (Dense)              (None, 10)                5130      \n",
            "=================================================================\n",
            "Total params: 407,050\n",
            "Trainable params: 407,050\n",
            "Non-trainable params: 0\n",
            "_________________________________________________________________\n"
          ],
          "name": "stdout"
        }
      ]
    },
    {
      "cell_type": "code",
      "metadata": {
        "colab": {
          "base_uri": "https://localhost:8080/"
        },
        "id": "XkE-0QbyvjuE",
        "outputId": "a027716c-7427-4864-e789-52f29e5c6e21"
      },
      "source": [
        "(784*512) + 512"
      ],
      "execution_count": null,
      "outputs": [
        {
          "output_type": "execute_result",
          "data": {
            "text/plain": [
              "401920"
            ]
          },
          "metadata": {
            "tags": []
          },
          "execution_count": 28
        }
      ]
    },
    {
      "cell_type": "code",
      "metadata": {
        "id": "1taHbLHH04J2"
      },
      "source": [
        "model.compile(optimizer=tf.keras.optimizers.SGD(), \r\n",
        "              loss=tf.keras.losses.categorical_crossentropy, \r\n",
        "              metrics=[\"acc\"])\r\n",
        "# acc - accuracy "
      ],
      "execution_count": null,
      "outputs": []
    },
    {
      "cell_type": "code",
      "metadata": {
        "colab": {
          "base_uri": "https://localhost:8080/"
        },
        "id": "56jgKkrg1jDU",
        "outputId": "f4d5ed35-95cc-4588-b329-a76f8b8ee36d"
      },
      "source": [
        "model.fit(x_train, y_train_proc, epochs=15)"
      ],
      "execution_count": null,
      "outputs": [
        {
          "output_type": "stream",
          "text": [
            "Epoch 1/15\n",
            "1875/1875 [==============================] - 7s 3ms/step - loss: 0.9639 - acc: 0.7643\n",
            "Epoch 2/15\n",
            "1875/1875 [==============================] - 6s 3ms/step - loss: 0.3358 - acc: 0.9079\n",
            "Epoch 3/15\n",
            "1875/1875 [==============================] - 6s 3ms/step - loss: 0.2790 - acc: 0.9231\n",
            "Epoch 4/15\n",
            "1875/1875 [==============================] - 7s 4ms/step - loss: 0.2469 - acc: 0.9317\n",
            "Epoch 5/15\n",
            "1875/1875 [==============================] - 6s 3ms/step - loss: 0.2188 - acc: 0.9403\n",
            "Epoch 6/15\n",
            "1875/1875 [==============================] - 6s 3ms/step - loss: 0.2083 - acc: 0.9430\n",
            "Epoch 7/15\n",
            "1875/1875 [==============================] - 6s 3ms/step - loss: 0.1865 - acc: 0.9485\n",
            "Epoch 8/15\n",
            "1875/1875 [==============================] - 7s 4ms/step - loss: 0.1745 - acc: 0.9520\n",
            "Epoch 9/15\n",
            "1875/1875 [==============================] - 7s 4ms/step - loss: 0.1632 - acc: 0.9555\n",
            "Epoch 10/15\n",
            "1875/1875 [==============================] - 7s 4ms/step - loss: 0.1519 - acc: 0.9585\n",
            "Epoch 11/15\n",
            "1875/1875 [==============================] - 6s 3ms/step - loss: 0.1434 - acc: 0.9607\n",
            "Epoch 12/15\n",
            "1875/1875 [==============================] - 6s 3ms/step - loss: 0.1372 - acc: 0.9623\n",
            "Epoch 13/15\n",
            "1875/1875 [==============================] - 6s 3ms/step - loss: 0.1288 - acc: 0.9640\n",
            "Epoch 14/15\n",
            "1875/1875 [==============================] - 6s 3ms/step - loss: 0.1231 - acc: 0.9657\n",
            "Epoch 15/15\n",
            "1875/1875 [==============================] - 6s 3ms/step - loss: 0.1153 - acc: 0.9693\n"
          ],
          "name": "stdout"
        },
        {
          "output_type": "execute_result",
          "data": {
            "text/plain": [
              "<tensorflow.python.keras.callbacks.History at 0x7f4b531c3278>"
            ]
          },
          "metadata": {
            "tags": []
          },
          "execution_count": 30
        }
      ]
    },
    {
      "cell_type": "code",
      "metadata": {
        "colab": {
          "base_uri": "https://localhost:8080/",
          "height": 283
        },
        "id": "FFYkP9Sw1o0M",
        "outputId": "4241efb8-a722-414b-9b61-e08a931dba6a"
      },
      "source": [
        "plt.imshow(x_test[200])"
      ],
      "execution_count": null,
      "outputs": [
        {
          "output_type": "execute_result",
          "data": {
            "text/plain": [
              "<matplotlib.image.AxesImage at 0x7f4b50b29240>"
            ]
          },
          "metadata": {
            "tags": []
          },
          "execution_count": 31
        },
        {
          "output_type": "display_data",
          "data": {
            "image/png": "[encoded data removed]",
            "text/plain": [
              "<Figure size 432x288 with 1 Axes>"
            ]
          },
          "metadata": {
            "tags": [],
            "needs_background": "light"
          }
        }
      ]
    },
    {
      "cell_type": "code",
      "metadata": {
        "colab": {
          "base_uri": "https://localhost:8080/"
        },
        "id": "uUAEGk7L2Usi",
        "outputId": "274e49e2-c61d-472a-bb28-ca4c3a5fd330"
      },
      "source": [
        "import numpy as np\r\n",
        "model.input_shape"
      ],
      "execution_count": null,
      "outputs": [
        {
          "output_type": "execute_result",
          "data": {
            "text/plain": [
              "(None, 28, 28)"
            ]
          },
          "metadata": {
            "tags": []
          },
          "execution_count": 32
        }
      ]
    },
    {
      "cell_type": "code",
      "metadata": {
        "id": "KFgWpg_v2KtO"
      },
      "source": [
        "img = x_test[200]\r\n",
        "img = img/255"
      ],
      "execution_count": null,
      "outputs": []
    },
    {
      "cell_type": "code",
      "metadata": {
        "colab": {
          "base_uri": "https://localhost:8080/"
        },
        "id": "q_SokEQ52cIs",
        "outputId": "687d68cd-7141-436c-cdb2-cde53f860478"
      },
      "source": [
        "img.shape"
      ],
      "execution_count": null,
      "outputs": [
        {
          "output_type": "execute_result",
          "data": {
            "text/plain": [
              "(28, 28)"
            ]
          },
          "metadata": {
            "tags": []
          },
          "execution_count": 34
        }
      ]
    },
    {
      "cell_type": "code",
      "metadata": {
        "id": "yEGvsgJ22dFB"
      },
      "source": [
        "img = np.expand_dims(img, axis=0)"
      ],
      "execution_count": null,
      "outputs": []
    },
    {
      "cell_type": "code",
      "metadata": {
        "colab": {
          "base_uri": "https://localhost:8080/"
        },
        "id": "f3BnecRO2lww",
        "outputId": "e5995419-5d9a-4908-b067-7c45814e95ef"
      },
      "source": [
        "img.shape"
      ],
      "execution_count": null,
      "outputs": [
        {
          "output_type": "execute_result",
          "data": {
            "text/plain": [
              "(1, 28, 28)"
            ]
          },
          "metadata": {
            "tags": []
          },
          "execution_count": 36
        }
      ]
    },
    {
      "cell_type": "code",
      "metadata": {
        "id": "mWYKko902mkZ"
      },
      "source": [
        "res = model.predict(img)"
      ],
      "execution_count": null,
      "outputs": []
    },
    {
      "cell_type": "code",
      "metadata": {
        "colab": {
          "base_uri": "https://localhost:8080/"
        },
        "id": "VuavvOlz2qIl",
        "outputId": "c38e8287-985e-48fb-af14-0137c802877d"
      },
      "source": [
        "res"
      ],
      "execution_count": null,
      "outputs": [
        {
          "output_type": "execute_result",
          "data": {
            "text/plain": [
              "array([[1.2789834e-05, 4.9292530e-09, 3.1140803e-03, 9.9440813e-01,\n",
              "        3.0078906e-10, 6.5117361e-05, 8.2926981e-08, 7.6200359e-11,\n",
              "        2.3996336e-03, 2.8671576e-07]], dtype=float32)"
            ]
          },
          "metadata": {
            "tags": []
          },
          "execution_count": 38
        }
      ]
    },
    {
      "cell_type": "code",
      "metadata": {
        "colab": {
          "base_uri": "https://localhost:8080/"
        },
        "id": "zArOUm_w2xhW",
        "outputId": "881bb6ad-1c50-4c74-fb1d-89f0c9acabce"
      },
      "source": [
        "[round(i, 2) for i in res[0]]"
      ],
      "execution_count": null,
      "outputs": [
        {
          "output_type": "execute_result",
          "data": {
            "text/plain": [
              "[0.0, 0.0, 0.0, 0.99, 0.0, 0.0, 0.0, 0.0, 0.0, 0.0]"
            ]
          },
          "metadata": {
            "tags": []
          },
          "execution_count": 39
        }
      ]
    },
    {
      "cell_type": "code",
      "metadata": {
        "colab": {
          "base_uri": "https://localhost:8080/"
        },
        "id": "VLXPqm-x20c7",
        "outputId": "1bedbd94-8474-40ae-aff8-9a0c304c2017"
      },
      "source": [
        "np.argmax(res)"
      ],
      "execution_count": null,
      "outputs": [
        {
          "output_type": "execute_result",
          "data": {
            "text/plain": [
              "3"
            ]
          },
          "metadata": {
            "tags": []
          },
          "execution_count": 40
        }
      ]
    },
    {
      "cell_type": "code",
      "metadata": {
        "id": "BuqO9HI53D0p"
      },
      "source": [
        ""
      ],
      "execution_count": null,
      "outputs": []
    }
  ]
}