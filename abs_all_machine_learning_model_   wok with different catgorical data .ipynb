{
  "nbformat": 4,
  "nbformat_minor": 0,
  "metadata": {
    "colab": {
      "name": "abs all machine learning model .ipynb",
      "private_outputs": true,
      "provenance": [],
      "mount_file_id": "1N0Oobpow0HssPYGXTIUM5HaJOzHPMOru",
      "authorship_tag": "ABX9TyOs+e8fujqLlYmd81NWMRJF",
      "include_colab_link": true
    },
    "kernelspec": {
      "name": "python3",
      "display_name": "Python 3"
    }
  },
  "cells": [
    {
      "cell_type": "markdown",
      "metadata": {
        "id": "view-in-github",
        "colab_type": "text"
      },
      "source": [
        "<a href=\"https://colab.research.google.com/github/satyambhatt5/Data_science/blob/main/abs_all_machine_learning_model_%20%20%20wok%20with%20different%20catgorical%20data%20.ipynb\" target=\"_parent\"><img src=\"https://colab.research.google.com/assets/colab-badge.svg\" alt=\"Open In Colab\"/></a>"
      ]
    },
    {
      "cell_type": "code",
      "metadata": {
        "id": "t1QqCc5b0WPr"
      },
      "source": [
        "import pandas as pd\r\n",
        "import numpy as np\r\n",
        "import matplotlib.pyplot as plt\r\n",
        "import seaborn as sns\r\n",
        "\r\n",
        "from sklearn.linear_model import LogisticRegression\r\n",
        "from sklearn.preprocessing import OneHotEncoder,OrdinalEncoder,LabelEncoder\r\n",
        "from sklearn.ensemble import RandomForestClassifier\r\n",
        "from sklearn.tree import DecisionTreeClassifier\r\n",
        "from sklearn.svm import SVC\r\n",
        "from sklearn.ensemble import ExtraTreesClassifier\r\n",
        "from sklearn.ensemble import AdaBoostClassifier\r\n",
        "from sklearn import preprocessing\r\n",
        "from sklearn.ensemble import GradientBoostingClassifier\r\n",
        "from sklearn.naive_bayes import GaussianNB\r\n",
        "from sklearn.ensemble import VotingClassifier\r\n",
        " \r\n",
        "#neural network with tensor flow and kearas\r\n",
        "import tensorflow as tf\r\n",
        "from tensorflow.keras.models import Sequential\r\n",
        "from tensorflow.keras.layers import Dense,Dropout\r\n",
        "from sklearn.metrics import confusion_matrix,f1_score,accuracy_score,classification_report,roc_auc_score\r\n"
      ],
      "execution_count": null,
      "outputs": []
    },
    {
      "cell_type": "code",
      "metadata": {
        "id": "FETL_YOG4Jdi"
      },
      "source": [
        "\r\n",
        "md=pd.read_csv(\"/content/drive/MyDrive/Kfold data/fold.csv\")\r\n",
        "md.head()"
      ],
      "execution_count": null,
      "outputs": []
    },
    {
      "cell_type": "code",
      "metadata": {
        "id": "y1pW8cIYwApQ"
      },
      "source": [
        "def run(fold):\r\n",
        "\r\n",
        "\r\n",
        "\r\n",
        "  #read the file \r\n",
        "\r\n",
        "  md=pd.read_csv(\"/content/drive/MyDrive/Kfold data/fold.csv\")\r\n",
        " #all the feature acept the id and kfold and target\r\n",
        "\r\n",
        "  features= [f for f in md.columns if f not in (\"id\",\"target\",\"kfold\")]\r\n",
        "  #fill the nan value and cover the all values in nan value \r\n",
        "  #i am converting the all coloum value in string \r\n",
        "  #it does not matter because it is category value \r\n",
        "  for col in features:\r\n",
        "    md.loc[:, col]= md[col].astype(str).fillna(\"None\")\r\n",
        "\r\n",
        "  for col in features:\r\n",
        "    lb =LabelEncoder()\r\n",
        "\r\n",
        "    #fitt label encoder in all the data \r\n",
        "\r\n",
        "    lb.fit(md[col])\r\n",
        "\r\n",
        "    #transform the all data \r\n",
        " \r\n",
        "    md.loc[:,col] =lb.transform(md[col])\r\n",
        "\r\n",
        "  #get training data using fold \r\n",
        "\r\n",
        "  train_md= md[md.kfold !=fold].reset_index(drop=True)\r\n",
        "\r\n",
        "  #validation data using k fold \r\n",
        "\r\n",
        "  valid_md=md[md.kfold == fold].reset_index(drop= True)\r\n",
        "\r\n",
        "\r\n",
        "  #train the data fit and transform \r\n",
        "\r\n",
        "  x_train= train_md[features].values\r\n",
        "\r\n",
        "  #valid the data \r\n",
        "  x_valid = valid_md[features].values\r\n",
        "\r\n",
        "  #initiate the model\r\n",
        "\r\n",
        "  model=RandomForestClassifier(n_jobs=-1)\r\n",
        "\r\n",
        "  model.fit(x_train,train_md.target.values)\r\n",
        "\r\n",
        "  #predict the validatin data \r\n",
        "\r\n",
        "  #we need probility value we are calculating the auc value \r\n",
        "\r\n",
        "  #we will use probility of it  \r\n",
        "\r\n",
        "  valid_pred= model.predict_proba(x_valid)[:,1]\r\n",
        "\r\n",
        "\r\n",
        "  #we get the roc and auc score \r\n",
        "\r\n",
        "\r\n",
        "  auc=roc_auc_score(valid_md.target.values,valid_pred)\r\n",
        "\r\n",
        "  print(f\"fold = {fold}, auc = {auc}\")\r\n",
        "\r\n",
        " \r\n",
        "if __name__ == \"__main__\":\r\n",
        "  for fold_ in range(5):\r\n",
        "    run(fold=fold_)\r\n",
        "   #run the fold =0\r\n",
        "   #we replace with number \r\n"
      ],
      "execution_count": null,
      "outputs": []
    },
    {
      "cell_type": "code",
      "metadata": {
        "id": "yFzpT7h31W3l"
      },
      "source": [
        "#decision tree model \r\n",
        "\r\n",
        "\r\n"
      ],
      "execution_count": null,
      "outputs": []
    },
    {
      "cell_type": "code",
      "metadata": {
        "id": "gmuLqJyNM-eR"
      },
      "source": [
        "def run(fold):\r\n",
        "\r\n",
        "\r\n",
        "\r\n",
        "  #read the file \r\n",
        "\r\n",
        "  md=pd.read_csv(\"/content/drive/MyDrive/Kfold data/fold.csv\")\r\n",
        " #all the feature acept the id and kfold and target\r\n",
        "\r\n",
        "  features= [f for f in md.columns if f not in (\"id\",\"target\",\"kfold\")]\r\n",
        "  #fill the nan value and cover the all values in nan value \r\n",
        "  #i am converting the all coloum value in string \r\n",
        "  #it does not matter because it is category value \r\n",
        "  for col in features:\r\n",
        "    md.loc[:, col]= md[col].astype(str).fillna(\"None\")\r\n",
        "\r\n",
        "  for col in features:\r\n",
        "    lb =LabelEncoder()\r\n",
        "\r\n",
        "    #fitt label encoder in all the data \r\n",
        "\r\n",
        "    lb.fit(md[col])\r\n",
        "\r\n",
        "    #transform the all data \r\n",
        " \r\n",
        "    md.loc[:,col] =lb.transform(md[col])\r\n",
        "\r\n",
        "  #get training data using fold \r\n",
        "\r\n",
        "  train_md= md[md.kfold !=fold].reset_index(drop=True)\r\n",
        "\r\n",
        "  #validation data using k fold \r\n",
        "\r\n",
        "  valid_md=md[md.kfold == fold].reset_index(drop= True)\r\n",
        "\r\n",
        "\r\n",
        "  #train the data fit and transform \r\n",
        "\r\n",
        "  x_train= train_md[features].values\r\n",
        "\r\n",
        "  #valid the data \r\n",
        "  x_valid = valid_md[features].values\r\n",
        "\r\n",
        "  #initiate the model\r\n",
        "\r\n",
        "  model= DecisionTreeClassifier(\"entropy\")\r\n",
        "\r\n",
        "  model.fit(x_train,train_md.target.values)\r\n",
        "\r\n",
        "  #predict the validatin data \r\n",
        "\r\n",
        "  #we need probility value we are calculating the auc value \r\n",
        "\r\n",
        "  #we will use probility of it  \r\n",
        "\r\n",
        "  valid_pred= model.predict_proba(x_valid)[:,1]\r\n",
        "\r\n",
        "\r\n",
        "  #we get the roc and auc score \r\n",
        "\r\n",
        "\r\n",
        "  auc=roc_auc_score(valid_md.target.values,valid_pred)\r\n",
        "\r\n",
        "  print(f\"fold = {fold}, auc = {auc}\")\r\n",
        "\r\n",
        " \r\n",
        "if __name__ == \"__main__\":\r\n",
        "  for fold_ in range(5):\r\n",
        "    run(fold=fold_)\r\n",
        "   #run the fold =0\r\n",
        "   #we replace with number \r\n"
      ],
      "execution_count": null,
      "outputs": []
    },
    {
      "cell_type": "code",
      "metadata": {
        "id": "wHpKyVhHP-7O"
      },
      "source": [
        ""
      ],
      "execution_count": null,
      "outputs": []
    },
    {
      "cell_type": "code",
      "metadata": {
        "id": "CZ3uMHlwRfSt"
      },
      "source": [
        "def run(fold):\r\n",
        "\r\n",
        "\r\n",
        "\r\n",
        "  #read the file \r\n",
        "\r\n",
        "  md=pd.read_csv(\"/content/drive/MyDrive/Kfold data/fold.csv\")\r\n",
        " #all the feature acept the id and kfold and target\r\n",
        "\r\n",
        "  features= [f for f in md.columns if f not in (\"id\",\"target\",\"kfold\")]\r\n",
        "  #fill the nan value and cover the all values in nan value \r\n",
        "  #i am converting the all coloum value in string \r\n",
        "  #it does not matter because it is category value \r\n",
        "  for col in features:\r\n",
        "    md.loc[:, col]= md[col].astype(str).fillna(\"None\")\r\n",
        "\r\n",
        "  for col in features:\r\n",
        "    lb =LabelEncoder()\r\n",
        "\r\n",
        "    #fitt label encoder in all the data \r\n",
        "\r\n",
        "    lb.fit(md[col])\r\n",
        "\r\n",
        "    #transform the all data \r\n",
        " \r\n",
        "    md.loc[:,col] =lb.transform(md[col])\r\n",
        "\r\n",
        "  #get training data using fold \r\n",
        "\r\n",
        "  train_md= md[md.kfold !=fold].reset_index(drop=True)\r\n",
        "\r\n",
        "  #validation data using k fold \r\n",
        "\r\n",
        "  valid_md=md[md.kfold == fold].reset_index(drop= True)\r\n",
        "\r\n",
        "\r\n",
        "  #train the data fit and transform \r\n",
        "\r\n",
        "  x_train= train_md[features].values\r\n",
        "\r\n",
        "  #valid the data \r\n",
        "  x_valid = valid_md[features].values\r\n",
        "\r\n",
        "  #initiate the model\r\n",
        "\r\n",
        "  model= ExtraTreesClassifier(max_depth=7,n_jobs=-1,criterion=\"entropy\")\r\n",
        "\r\n",
        "  model.fit(x_train,train_md.target.values)\r\n",
        "\r\n",
        "  #predict the validatin data \r\n",
        "\r\n",
        "  #we need probility value we are calculating the auc value \r\n",
        "\r\n",
        "  #we will use probility of it  \r\n",
        "\r\n",
        "  valid_pred= model.predict_proba(x_valid)[:,1]\r\n",
        "\r\n",
        "\r\n",
        "  #we get the roc and auc score \r\n",
        "\r\n",
        "\r\n",
        "  auc=roc_auc_score(valid_md.target.values,valid_pred)\r\n",
        "\r\n",
        "  print(f\"fold = {fold}, auc = {auc}\")\r\n",
        "\r\n",
        " \r\n",
        "if __name__ == \"__main__\":\r\n",
        "  for fold_ in range(5):\r\n",
        "    run(fold=fold_)\r\n",
        "   #run the fold =0\r\n",
        "   #we replace with number "
      ],
      "execution_count": null,
      "outputs": []
    },
    {
      "cell_type": "code",
      "metadata": {
        "id": "nhHUK9i-SQQP"
      },
      "source": [
        "!wget https://archive.ics.uci.edu/ml/machine-learning-databases/adult/"
      ],
      "execution_count": null,
      "outputs": []
    },
    {
      "cell_type": "code",
      "metadata": {
        "id": "nO2Lf0GMVLiX"
      },
      "source": [
        ""
      ],
      "execution_count": null,
      "outputs": []
    },
    {
      "cell_type": "code",
      "metadata": {
        "id": "kLoQL4NeVbPu"
      },
      "source": [
        ""
      ],
      "execution_count": null,
      "outputs": []
    },
    {
      "cell_type": "code",
      "metadata": {
        "id": "4LpXpsFpWOTP"
      },
      "source": [
        ""
      ],
      "execution_count": null,
      "outputs": []
    },
    {
      "cell_type": "code",
      "metadata": {
        "id": "Zv3sAe1-WWfU"
      },
      "source": [
        ""
      ],
      "execution_count": null,
      "outputs": []
    },
    {
      "cell_type": "code",
      "metadata": {
        "id": "472iz4eHxVMY"
      },
      "source": [
        ""
      ],
      "execution_count": null,
      "outputs": []
    },
    {
      "cell_type": "code",
      "metadata": {
        "id": "S8s32YBWyVyF"
      },
      "source": [
        ""
      ],
      "execution_count": null,
      "outputs": []
    }
  ]
}